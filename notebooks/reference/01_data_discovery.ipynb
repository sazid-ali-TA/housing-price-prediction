{
 "cells": [
  {
   "attachments": {},
   "cell_type": "markdown",
   "metadata": {},
   "source": [
    "# Purpose\n",
    "This notebook describes the typical activities carried out  at the beginning to a project / thread when customer shares new data. We will be trying to understand the tables, columns and information flow. Typically we also look for data issues and confirm with respective owners for resolution. At the end of this activity, the data sources and their treatment is finalized. Code in this notebook will not be part of the production code.\n",
    "\n",
    "This data can be downloaded from\n",
    "[here](https://drive.google.com/file/d/11DqcBxxEcn3QA4YvPQmmExBm-m6AgUQ_/view?usp=sharing)\n",
    "\n",
    "**NOTE**:\n",
    "Download the data from the above link, and copy the extracted csv files to the path `data/raw/sales/` (relative to root of the code archive folder). Make sure to copy the files before continuing on with the rest of the notebook.\n",
    "\n",
    "# Initialization"
   ]
  },
  {
   "cell_type": "code",
   "execution_count": 9,
   "metadata": {},
   "outputs": [
    {
     "name": "stdout",
     "output_type": "stream",
     "text": [
      "The autoreload extension is already loaded. To reload it, use:\n",
      "  %reload_ext autoreload\n"
     ]
    }
   ],
   "source": [
    "%load_ext autoreload\n",
    "%autoreload 2"
   ]
  },
  {
   "cell_type": "code",
   "execution_count": 3,
   "metadata": {},
   "outputs": [
    {
     "name": "stdout",
     "output_type": "stream",
     "text": [
      "CPU times: user 663 ms, sys: 113 ms, total: 776 ms\n",
      "Wall time: 1.01 s\n"
     ]
    }
   ],
   "source": [
    "%%time\n",
    "\n",
    "# Third-party imports\n",
    "import os.path as op\n",
    "import pandas as pd\n",
    "import great_expectations as ge\n",
    "\n",
    "# Project imports\n",
    "from ta_lib.core.api import display_as_tabs, initialize_environment\n",
    "\n",
    "# Initialization\n",
    "initialize_environment(debug=False, hide_warnings=True)"
   ]
  },
  {
   "attachments": {},
   "cell_type": "markdown",
   "metadata": {},
   "source": [
    "# Data\n",
    "\n",
    "## Background\n",
    "\n",
    "Customer is a distributor of electronic devices. They partner with manufacturers, carriers and refurbishers and sell across to  retailers. The selling price is the outcome of negotiation between sales representatives and retailers. Customer wants to understand the selling price variation and determine  optimal pricing with Machine Learning."
   ]
  },
  {
   "cell_type": "code",
   "execution_count": 10,
   "metadata": {},
   "outputs": [],
   "source": [
    "from ta_lib.core.api import create_context, list_datasets, load_dataset"
   ]
  },
  {
   "cell_type": "code",
   "execution_count": 19,
   "metadata": {},
   "outputs": [],
   "source": [
    "config_path = op.join('conf', 'config.yml')\n",
    "context = create_context(config_path)"
   ]
  },
  {
   "cell_type": "code",
   "execution_count": 15,
   "metadata": {},
   "outputs": [
    {
     "data": {
      "text/plain": [
       "['/raw/orders',\n",
       " '/raw/product',\n",
       " '/cleaned/orders',\n",
       " '/cleaned/product',\n",
       " '/cleaned/sales',\n",
       " '/processed/sales',\n",
       " '/train/sales/features',\n",
       " '/train/sales/target',\n",
       " '/test/sales/features',\n",
       " '/test/sales/target',\n",
       " '/score/sales/output']"
      ]
     },
     "execution_count": 15,
     "metadata": {},
     "output_type": "execute_result"
    }
   ],
   "source": [
    "list_datasets(context)"
   ]
  },
  {
   "cell_type": "code",
   "execution_count": 21,
   "metadata": {},
   "outputs": [
    {
     "name": "stdout",
     "output_type": "stream",
     "text": [
      "/home/alisaz/TAMLEP/Module5/regression-py/src/../data/raw/sales/orders.csv\n",
      "/home/alisaz/TAMLEP/Module5/regression-py/src/../data/raw/sales/prod_master.csv\n"
     ]
    }
   ],
   "source": [
    "# load datasets\n",
    "orders_df = load_dataset(context, 'raw/orders')\n",
    "prod_df = load_dataset(context, 'raw/product')"
   ]
  },
  {
   "attachments": {},
   "cell_type": "markdown",
   "metadata": {},
   "source": [
    "# Exploratory Analysis\n",
    "\n",
    "Given the raw data from data ingestion, we would now like to explore and learn more details about the data.\n",
    "\n",
    "\n",
    "The output of the step would be a summary report and discussion of any pertinent findings.\n"
   ]
  },
  {
   "cell_type": "code",
   "execution_count": 22,
   "metadata": {},
   "outputs": [],
   "source": [
    "# Import the eda API\n",
    "import ta_lib.eda.api as eda"
   ]
  },
  {
   "attachments": {},
   "cell_type": "markdown",
   "metadata": {},
   "source": [
    "## Variable summary"
   ]
  },
  {
   "cell_type": "code",
   "execution_count": 23,
   "metadata": {},
   "outputs": [
    {
     "data": {},
     "metadata": {},
     "output_type": "display_data"
    },
    {
     "data": {
      "application/vnd.holoviews_exec.v0+json": "",
      "text/html": [
       "<div id='1002'>\n",
       "  <div class=\"bk-root\" id=\"d070b19e-a2dd-41b9-aac9-99eb7174cc38\" data-root-id=\"1002\"></div>\n",
       "</div>\n",
       "<script type=\"application/javascript\">(function(root) {\n",
       "  function embed_document(root) {\n",
       "    var docs_json = {\"9a0d834a-932b-4c5e-94f4-74766f02381d\":{\"defs\":[{\"extends\":null,\"module\":null,\"name\":\"ReactiveHTML1\",\"overrides\":[],\"properties\":[]},{\"extends\":null,\"module\":null,\"name\":\"FlexBox1\",\"overrides\":[],\"properties\":[{\"default\":\"flex-start\",\"kind\":null,\"name\":\"align_content\"},{\"default\":\"flex-start\",\"kind\":null,\"name\":\"align_items\"},{\"default\":\"row\",\"kind\":null,\"name\":\"flex_direction\"},{\"default\":\"wrap\",\"kind\":null,\"name\":\"flex_wrap\"},{\"default\":\"flex-start\",\"kind\":null,\"name\":\"justify_content\"}]},{\"extends\":null,\"module\":null,\"name\":\"GridStack1\",\"overrides\":[],\"properties\":[{\"default\":\"warn\",\"kind\":null,\"name\":\"mode\"},{\"default\":null,\"kind\":null,\"name\":\"ncols\"},{\"default\":null,\"kind\":null,\"name\":\"nrows\"},{\"default\":true,\"kind\":null,\"name\":\"allow_resize\"},{\"default\":true,\"kind\":null,\"name\":\"allow_drag\"},{\"default\":[],\"kind\":null,\"name\":\"state\"}]},{\"extends\":null,\"module\":null,\"name\":\"click1\",\"overrides\":[],\"properties\":[{\"default\":\"\",\"kind\":null,\"name\":\"terminal_output\"},{\"default\":\"\",\"kind\":null,\"name\":\"debug_name\"},{\"default\":0,\"kind\":null,\"name\":\"clears\"}]},{\"extends\":null,\"module\":null,\"name\":\"NotificationAreaBase1\",\"overrides\":[],\"properties\":[{\"default\":\"bottom-right\",\"kind\":null,\"name\":\"position\"},{\"default\":0,\"kind\":null,\"name\":\"_clear\"}]},{\"extends\":null,\"module\":null,\"name\":\"NotificationArea1\",\"overrides\":[],\"properties\":[{\"default\":[],\"kind\":null,\"name\":\"notifications\"},{\"default\":\"bottom-right\",\"kind\":null,\"name\":\"position\"},{\"default\":0,\"kind\":null,\"name\":\"_clear\"},{\"default\":[{\"background\":\"#ffc107\",\"icon\":{\"className\":\"fas fa-exclamation-triangle\",\"color\":\"white\",\"tagName\":\"i\"},\"type\":\"warning\"},{\"background\":\"#007bff\",\"icon\":{\"className\":\"fas fa-info-circle\",\"color\":\"white\",\"tagName\":\"i\"},\"type\":\"info\"}],\"kind\":null,\"name\":\"types\"}]},{\"extends\":null,\"module\":null,\"name\":\"Notification\",\"overrides\":[],\"properties\":[{\"default\":null,\"kind\":null,\"name\":\"background\"},{\"default\":3000,\"kind\":null,\"name\":\"duration\"},{\"default\":null,\"kind\":null,\"name\":\"icon\"},{\"default\":\"\",\"kind\":null,\"name\":\"message\"},{\"default\":null,\"kind\":null,\"name\":\"notification_type\"},{\"default\":false,\"kind\":null,\"name\":\"_destroyed\"}]},{\"extends\":null,\"module\":null,\"name\":\"TemplateActions1\",\"overrides\":[],\"properties\":[{\"default\":0,\"kind\":null,\"name\":\"open_modal\"},{\"default\":0,\"kind\":null,\"name\":\"close_modal\"}]},{\"extends\":null,\"module\":null,\"name\":\"MaterialTemplateActions1\",\"overrides\":[],\"properties\":[{\"default\":0,\"kind\":null,\"name\":\"open_modal\"},{\"default\":0,\"kind\":null,\"name\":\"close_modal\"}]}],\"roots\":{\"references\":[{\"attributes\":{\"child\":{\"id\":\"1003\"},\"name\":\"orders\",\"title\":\"orders\"},\"id\":\"1004\",\"type\":\"Panel\"},{\"attributes\":{\"reload\":false},\"id\":\"1008\",\"type\":\"panel.models.location.Location\"},{\"attributes\":{\"margin\":[5,5,5,5],\"name\":\"product\",\"text\":\"&lt;pre&gt;(13545, 9)&lt;/pre&gt;\"},\"id\":\"1005\",\"type\":\"panel.models.markup.HTML\"},{\"attributes\":{\"margin\":[0,0,0,0],\"tabs\":[{\"id\":\"1004\"},{\"id\":\"1006\"}]},\"id\":\"1002\",\"type\":\"panel.models.tabs.Tabs\"},{\"attributes\":{\"margin\":[5,5,5,5],\"name\":\"orders\",\"text\":\"&lt;pre&gt;(174813, 25)&lt;/pre&gt;\"},\"id\":\"1003\",\"type\":\"panel.models.markup.HTML\"},{\"attributes\":{\"child\":{\"id\":\"1005\"},\"name\":\"product\",\"title\":\"product\"},\"id\":\"1006\",\"type\":\"Panel\"},{\"attributes\":{\"client_comm_id\":\"9f4d2e2d16dd46b3abd9772f83439c69\",\"comm_id\":\"97c8a1de3e6849f6ba4dd43eb48409bc\",\"plot_id\":\"1002\"},\"id\":\"1007\",\"type\":\"panel.models.comm_manager.CommManager\"}],\"root_ids\":[\"1002\",\"1007\",\"1008\"]},\"title\":\"Bokeh Application\",\"version\":\"2.4.3\"}};\n",
       "    var render_items = [{\"docid\":\"9a0d834a-932b-4c5e-94f4-74766f02381d\",\"root_ids\":[\"1002\"],\"roots\":{\"1002\":\"d070b19e-a2dd-41b9-aac9-99eb7174cc38\"}}];\n",
       "    root.Bokeh.embed.embed_items_notebook(docs_json, render_items);\n",
       "  }\n",
       "  if (root.Bokeh !== undefined && root.Bokeh.Panel !== undefined) {\n",
       "    embed_document(root);\n",
       "  } else {\n",
       "    var attempts = 0;\n",
       "    var timer = setInterval(function(root) {\n",
       "      if (root.Bokeh !== undefined && root.Bokeh.Panel !== undefined) {\n",
       "        clearInterval(timer);\n",
       "        embed_document(root);\n",
       "      } else if (document.readyState == \"complete\") {\n",
       "        attempts++;\n",
       "        if (attempts > 200) {\n",
       "          clearInterval(timer);\n",
       "          console.log(\"Bokeh: ERROR: Unable to run BokehJS code because BokehJS library is missing\");\n",
       "        }\n",
       "      }\n",
       "    }, 25, root)\n",
       "  }\n",
       "})(window);</script>"
      ],
      "text/plain": [
       "Tabs\n",
       "    [0] Str(tuple, name='orders')\n",
       "    [1] Str(tuple, name='product')"
      ]
     },
     "execution_count": 23,
     "metadata": {
      "application/vnd.holoviews_exec.v0+json": {
       "id": "1002"
      }
     },
     "output_type": "execute_result"
    }
   ],
   "source": [
    "display_as_tabs([('orders', orders_df.shape), ('product', prod_df.shape)])"
   ]
  },
  {
   "cell_type": "code",
   "execution_count": 24,
   "metadata": {},
   "outputs": [
    {
     "data": {},
     "metadata": {},
     "output_type": "display_data"
    },
    {
     "data": {
      "application/vnd.holoviews_exec.v0+json": "",
      "text/html": [
       "<div id='1009'>\n",
       "  <div class=\"bk-root\" id=\"e4d0d867-14c9-4e69-895d-30421eb93b4e\" data-root-id=\"1009\"></div>\n",
       "</div>\n",
       "<script type=\"application/javascript\">(function(root) {\n",
       "  function embed_document(root) {\n",
       "    var docs_json = {\"54f1b8e3-5c23-4dd9-b737-0b7aa93dd6bb\":{\"defs\":[{\"extends\":null,\"module\":null,\"name\":\"ReactiveHTML1\",\"overrides\":[],\"properties\":[]},{\"extends\":null,\"module\":null,\"name\":\"FlexBox1\",\"overrides\":[],\"properties\":[{\"default\":\"flex-start\",\"kind\":null,\"name\":\"align_content\"},{\"default\":\"flex-start\",\"kind\":null,\"name\":\"align_items\"},{\"default\":\"row\",\"kind\":null,\"name\":\"flex_direction\"},{\"default\":\"wrap\",\"kind\":null,\"name\":\"flex_wrap\"},{\"default\":\"flex-start\",\"kind\":null,\"name\":\"justify_content\"}]},{\"extends\":null,\"module\":null,\"name\":\"GridStack1\",\"overrides\":[],\"properties\":[{\"default\":\"warn\",\"kind\":null,\"name\":\"mode\"},{\"default\":null,\"kind\":null,\"name\":\"ncols\"},{\"default\":null,\"kind\":null,\"name\":\"nrows\"},{\"default\":true,\"kind\":null,\"name\":\"allow_resize\"},{\"default\":true,\"kind\":null,\"name\":\"allow_drag\"},{\"default\":[],\"kind\":null,\"name\":\"state\"}]},{\"extends\":null,\"module\":null,\"name\":\"click1\",\"overrides\":[],\"properties\":[{\"default\":\"\",\"kind\":null,\"name\":\"terminal_output\"},{\"default\":\"\",\"kind\":null,\"name\":\"debug_name\"},{\"default\":0,\"kind\":null,\"name\":\"clears\"}]},{\"extends\":null,\"module\":null,\"name\":\"NotificationAreaBase1\",\"overrides\":[],\"properties\":[{\"default\":\"bottom-right\",\"kind\":null,\"name\":\"position\"},{\"default\":0,\"kind\":null,\"name\":\"_clear\"}]},{\"extends\":null,\"module\":null,\"name\":\"NotificationArea1\",\"overrides\":[],\"properties\":[{\"default\":[],\"kind\":null,\"name\":\"notifications\"},{\"default\":\"bottom-right\",\"kind\":null,\"name\":\"position\"},{\"default\":0,\"kind\":null,\"name\":\"_clear\"},{\"default\":[{\"background\":\"#ffc107\",\"icon\":{\"className\":\"fas fa-exclamation-triangle\",\"color\":\"white\",\"tagName\":\"i\"},\"type\":\"warning\"},{\"background\":\"#007bff\",\"icon\":{\"className\":\"fas fa-info-circle\",\"color\":\"white\",\"tagName\":\"i\"},\"type\":\"info\"}],\"kind\":null,\"name\":\"types\"}]},{\"extends\":null,\"module\":null,\"name\":\"Notification\",\"overrides\":[],\"properties\":[{\"default\":null,\"kind\":null,\"name\":\"background\"},{\"default\":3000,\"kind\":null,\"name\":\"duration\"},{\"default\":null,\"kind\":null,\"name\":\"icon\"},{\"default\":\"\",\"kind\":null,\"name\":\"message\"},{\"default\":null,\"kind\":null,\"name\":\"notification_type\"},{\"default\":false,\"kind\":null,\"name\":\"_destroyed\"}]},{\"extends\":null,\"module\":null,\"name\":\"TemplateActions1\",\"overrides\":[],\"properties\":[{\"default\":0,\"kind\":null,\"name\":\"open_modal\"},{\"default\":0,\"kind\":null,\"name\":\"close_modal\"}]},{\"extends\":null,\"module\":null,\"name\":\"MaterialTemplateActions1\",\"overrides\":[],\"properties\":[{\"default\":0,\"kind\":null,\"name\":\"open_modal\"},{\"default\":0,\"kind\":null,\"name\":\"close_modal\"}]}],\"roots\":{\"references\":[{\"attributes\":{\"editor\":{\"id\":\"1029\"},\"field\":\"No of Unique\",\"formatter\":{\"id\":\"1028\"},\"title\":\"No of Unique\",\"width\":0},\"id\":\"1030\",\"type\":\"TableColumn\"},{\"attributes\":{\"indices\":[]},\"id\":\"1011\",\"type\":\"Selection\"},{\"attributes\":{\"source\":{\"id\":\"1010\"}},\"id\":\"1040\",\"type\":\"CDSView\"},{\"attributes\":{\"editor\":{\"id\":\"1047\"},\"field\":\"index\",\"formatter\":{\"id\":\"1045\"},\"title\":\"index\",\"width\":0},\"id\":\"1048\",\"type\":\"TableColumn\"},{\"attributes\":{},\"id\":\"1062\",\"type\":\"StringEditor\"},{\"attributes\":{},\"id\":\"1052\",\"type\":\"StringEditor\"},{\"attributes\":{},\"id\":\"1061\",\"type\":\"StringFormatter\"},{\"attributes\":{\"data\":{\"Datatype\":[\"object\",\"object\",\"object\",\"object\",\"object\",\"object\",\"object\",\"object\",\"object\"],\"No of Unique\":[\"13544\",\"242\",\"38\",\"12\",\"37\",\"7\",\"12\",\"5\",\"3\"],\"Samples\":[\"['APL 616GB GLD ESTK UNL', 'APL 732GB SLV B2STK UNL', 'APL 8P256G SLV CSTK UNL', 'APL AWG1 38MM STNSTL CST', 'APL AWG1 42MM STNSTL CST']\",\"['616GB ', '732GB ', '8P256G', 'AWG1  ', 'AWS1AL']\",\"['GOLD  ', 'SILVER', 'STNSTL', 'GRAY  ', 'ROSGLD']\",\"['16GB      ', '32GB      ', '64GB      ', '38MM      ', '42MM      ']\",\"['GOLD  ', 'SILVER', 'STAINLESS STEEL', 'GRAY  ', 'ROSGLD']\",\"['16GB', '32GB', '64GB', '128GB', '256GB']\",\"['APPLE', 'SAMSUNG', 'TCT/ALCATEL', 'ASUS', 'GOOGLE']\",\"['BBTI', 'APPLE BBTI', 'ASIS', 'CPO', 'FPC']\",\"['UNTESTED', 'TESTED', 'REVIEW']\"],\"Variable Name\":[\"SKU\",\"ModelFamily\",\"color\",\"MemorySize\",\"Ext_Color\",\"Ext_memorySize\",\"Brand\",\"SourceChannel\",\"FunctionalStatus\"],\"index\":[\"SKU\",\"ModelFamily\",\"color\",\"MemorySize\",\"Ext_Color\",\"Ext_memorySize\",\"Brand\",\"SourceChannel\",\"FunctionalStatus\"]},\"selected\":{\"id\":\"1044\"},\"selection_policy\":{\"id\":\"1078\"}},\"id\":\"1043\",\"type\":\"ColumnDataSource\"},{\"attributes\":{},\"id\":\"1019\",\"type\":\"StringEditor\"},{\"attributes\":{\"editor\":{\"id\":\"1067\"},\"field\":\"Samples\",\"formatter\":{\"id\":\"1066\"},\"title\":\"Samples\",\"width\":0},\"id\":\"1068\",\"type\":\"TableColumn\"},{\"attributes\":{\"client_comm_id\":\"6f81082fbb0948608e38f932065f970a\",\"comm_id\":\"261ab704e0b4459294e68f000f4032a1\",\"plot_id\":\"1009\"},\"id\":\"1088\",\"type\":\"panel.models.comm_manager.CommManager\"},{\"attributes\":{},\"id\":\"1056\",\"type\":\"StringFormatter\"},{\"attributes\":{\"columns\":[{\"id\":\"1015\"},{\"id\":\"1020\"},{\"id\":\"1025\"},{\"id\":\"1030\"},{\"id\":\"1035\"}],\"editable\":true,\"height\":300,\"index_position\":null,\"margin\":[5,10,5,10],\"name\":\"orders\",\"row_height\":40,\"sizing_mode\":\"fixed\",\"source\":{\"id\":\"1010\"},\"view\":{\"id\":\"1040\"},\"width\":800},\"id\":\"1038\",\"type\":\"DataTable\"},{\"attributes\":{\"indices\":[]},\"id\":\"1044\",\"type\":\"Selection\"},{\"attributes\":{},\"id\":\"1047\",\"type\":\"CellEditor\"},{\"attributes\":{\"child\":{\"id\":\"1038\"},\"name\":\"orders\",\"title\":\"orders\"},\"id\":\"1042\",\"type\":\"Panel\"},{\"attributes\":{},\"id\":\"1051\",\"type\":\"StringFormatter\"},{\"attributes\":{},\"id\":\"1033\",\"type\":\"StringFormatter\"},{\"attributes\":{\"editor\":{\"id\":\"1052\"},\"field\":\"Variable Name\",\"formatter\":{\"id\":\"1051\"},\"title\":\"Variable Name\",\"width\":0},\"id\":\"1053\",\"type\":\"TableColumn\"},{\"attributes\":{},\"id\":\"1018\",\"type\":\"StringFormatter\"},{\"attributes\":{\"editor\":{\"id\":\"1024\"},\"field\":\"Datatype\",\"formatter\":{\"id\":\"1023\"},\"title\":\"Datatype\",\"width\":0},\"id\":\"1025\",\"type\":\"TableColumn\"},{\"attributes\":{\"editor\":{\"id\":\"1057\"},\"field\":\"Datatype\",\"formatter\":{\"id\":\"1056\"},\"title\":\"Datatype\",\"width\":0},\"id\":\"1058\",\"type\":\"TableColumn\"},{\"attributes\":{\"editor\":{\"id\":\"1062\"},\"field\":\"No of Unique\",\"formatter\":{\"id\":\"1061\"},\"title\":\"No of Unique\",\"width\":0},\"id\":\"1063\",\"type\":\"TableColumn\"},{\"attributes\":{\"source\":{\"id\":\"1043\"}},\"id\":\"1073\",\"type\":\"CDSView\"},{\"attributes\":{},\"id\":\"1023\",\"type\":\"StringFormatter\"},{\"attributes\":{},\"id\":\"1078\",\"type\":\"UnionRenderers\"},{\"attributes\":{\"child\":{\"id\":\"1071\"},\"name\":\"product\",\"title\":\"product\"},\"id\":\"1075\",\"type\":\"Panel\"},{\"attributes\":{\"editor\":{\"id\":\"1014\"},\"field\":\"index\",\"formatter\":{\"id\":\"1012\"},\"title\":\"index\",\"width\":0},\"id\":\"1015\",\"type\":\"TableColumn\"},{\"attributes\":{},\"id\":\"1067\",\"type\":\"StringEditor\"},{\"attributes\":{},\"id\":\"1034\",\"type\":\"StringEditor\"},{\"attributes\":{\"editor\":{\"id\":\"1034\"},\"field\":\"Samples\",\"formatter\":{\"id\":\"1033\"},\"title\":\"Samples\",\"width\":0},\"id\":\"1035\",\"type\":\"TableColumn\"},{\"attributes\":{},\"id\":\"1014\",\"type\":\"CellEditor\"},{\"attributes\":{},\"id\":\"1012\",\"type\":\"StringFormatter\"},{\"attributes\":{\"editor\":{\"id\":\"1019\"},\"field\":\"Variable Name\",\"formatter\":{\"id\":\"1018\"},\"title\":\"Variable Name\",\"width\":0},\"id\":\"1020\",\"type\":\"TableColumn\"},{\"attributes\":{},\"id\":\"1028\",\"type\":\"StringFormatter\"},{\"attributes\":{},\"id\":\"1024\",\"type\":\"StringEditor\"},{\"attributes\":{},\"id\":\"1057\",\"type\":\"StringEditor\"},{\"attributes\":{\"data\":{\"Datatype\":[\"object\",\"datetime64[ns]\",\"int64\",\"object\",\"int64\",\"object\",\"object\",\"object\",\"object\",\"int64\",\"int64\",\"object\",\"object\",\"object\",\"object\",\"int64\",\"float64\",\"float64\",\"float64\",\"float64\",\"float64\",\"object\",\"object\",\"object\",\"object\"],\"No of Unique\":[\"12\",\"227\",\"8903\",\"211\",\"8798\",\"4\",\"16\",\"13850\",\"13549\",\"16\",\"1017\",\"15\",\"210\",\"15\",\"3\",\"929\",\"45616\",\"1872\",\"12557\",\"68029\",\"54734\",\"25\",\"6\",\"135\",\"10\"],\"Samples\":[\"['apple', 'online', 'airtel', 'fpc', 'corporate']\",\"[numpy.datetime64('2019-11-04T00:00:00.000000000'), numpy.datetime64('2019-11-05T00:00:00.000000000'), numpy.datetime64('2019-01-14T00:00:00.000000000'), numpy.datetime64('2019-06-28T00:00:00.000000000'), numpy.datetime64('2019-07-24T00:00:00.000000000')]\",\"[54746876, 54746877, 54746886, 54746879, 54746884]\",\"['Compal Electronics', 'Miniwiz', 'Hsin Tung Yang', 'Apacer', 'E.SUN Commercial Bank']\",\"[31336494, 31343067, 31585791, 31421952, 31579640]\",\"['SO  ', 'CR  ', 'SP  ', 'S1  ']\",\"['LMB   ', 'BMI   ', 'CCE   ', 'IYE   ', 'JFO   ']\",\"['IPMI464G000WF14G40', 'amlIR32S000WF80610', 'UIP864GCUM415TSPTG30', 'UIP732CUM415T000R10', 'UIP6SC32UC655aml000R40']\",\"['APL IPDM4 GLD 64G A1538 EST', 'APL IPDAR SLV 32G WIFI BSTK', 'APL IP8 GLD 64G A1863 DST', 'APL IP7 RGLD 32G A1660 BST', 'APL IP6S RGLD 32G A1688 EST']\",\"[900, 904, 135, 922, 513]\",\"[30000, 14000, 64000, 1000, 61000]\",\"['APL   ', 'SMS   ', 'GOO   ', 'LGH   ', 'SNY   ']\",\"['A1538 ', '      ', 'A1863 ', 'A1660 ', 'A1688 ']\",\"['0', 'BLM   ', 'RGW   ', 'TMO   ', 'TEL   ']\",\"['ULD', 'LKD', '   ']\",\"[3, 126, 1, 11, 2]\",\"[91.304, 65.377, 160.571, 127.777, 55.499]\",\"[95.0, 105.0, 190.0, 150.0, 56.0]\",\"[285.0, 315.0, 23940.0, 450.0, 56.0]\",\"[273.91, 196.13, 20232.02, 383.33, 55.5]\",\"[11.09, 118.87, 3707.98, 66.67, 0.5]\",\"['Emerch', 'Bmerch', 'Dmerch', 'CcommodRC', 'Cmerch']\",\"['WFI', 'MM ', 'GSM', 'NA ', 'LTE']\",\"['IPAD MINI 4', 'IPAD AIR', 'IPHONE 8', 'IPHONE 7', 'IPHONE 6S']\",\"['GRADE E', 'GRADE B', 'GRADE D', 'GRADE C', 'GRADE B2']\"],\"Variable Name\":[\"Channel\",\"LedgerDate\",\"InvoiceNo\",\"Customername\",\"Orderno\",\"OrderType\",\"SalesPerson\",\"InventoryID\",\"SKU\",\"BusinessUnit\",\"Line\",\"Manufacturer\",\"Platforms\",\"Carrier\",\"LockStatus\",\"Quantity\",\"UnitCost\",\"UnitPrice\",\"SellingPrice\",\"SellingCost\",\"GP\",\"Condition\",\"Technology\",\"Ext_ModelFamily\",\"Ext_Grade\"],\"index\":[\"Channel\",\"LedgerDate\",\"InvoiceNo\",\"Customername\",\"Orderno\",\"OrderType\",\"SalesPerson\",\"InventoryID\",\"SKU\",\"BusinessUnit\",\"Line\",\"Manufacturer\",\"Platforms\",\"Carrier\",\"LockStatus\",\"Quantity\",\"UnitCost\",\"UnitPrice\",\"SellingPrice\",\"SellingCost\",\"GP\",\"Condition\",\"Technology\",\"Ext_ModelFamily\",\"Ext_Grade\"]},\"selected\":{\"id\":\"1011\"},\"selection_policy\":{\"id\":\"1076\"}},\"id\":\"1010\",\"type\":\"ColumnDataSource\"},{\"attributes\":{\"margin\":[0,0,0,0],\"tabs\":[{\"id\":\"1042\"},{\"id\":\"1075\"}]},\"id\":\"1009\",\"type\":\"panel.models.tabs.Tabs\"},{\"attributes\":{},\"id\":\"1029\",\"type\":\"StringEditor\"},{\"attributes\":{\"columns\":[{\"id\":\"1048\"},{\"id\":\"1053\"},{\"id\":\"1058\"},{\"id\":\"1063\"},{\"id\":\"1068\"}],\"editable\":true,\"height\":300,\"index_position\":null,\"margin\":[5,10,5,10],\"name\":\"product\",\"row_height\":40,\"sizing_mode\":\"fixed\",\"source\":{\"id\":\"1043\"},\"view\":{\"id\":\"1073\"},\"width\":800},\"id\":\"1071\",\"type\":\"DataTable\"},{\"attributes\":{},\"id\":\"1045\",\"type\":\"StringFormatter\"},{\"attributes\":{},\"id\":\"1066\",\"type\":\"StringFormatter\"},{\"attributes\":{},\"id\":\"1076\",\"type\":\"UnionRenderers\"}],\"root_ids\":[\"1009\",\"1088\"]},\"title\":\"Bokeh Application\",\"version\":\"2.4.3\"}};\n",
       "    var render_items = [{\"docid\":\"54f1b8e3-5c23-4dd9-b737-0b7aa93dd6bb\",\"root_ids\":[\"1009\"],\"roots\":{\"1009\":\"e4d0d867-14c9-4e69-895d-30421eb93b4e\"}}];\n",
       "    root.Bokeh.embed.embed_items_notebook(docs_json, render_items);\n",
       "  }\n",
       "  if (root.Bokeh !== undefined && root.Bokeh.Panel !== undefined) {\n",
       "    embed_document(root);\n",
       "  } else {\n",
       "    var attempts = 0;\n",
       "    var timer = setInterval(function(root) {\n",
       "      if (root.Bokeh !== undefined && root.Bokeh.Panel !== undefined) {\n",
       "        clearInterval(timer);\n",
       "        embed_document(root);\n",
       "      } else if (document.readyState == \"complete\") {\n",
       "        attempts++;\n",
       "        if (attempts > 200) {\n",
       "          clearInterval(timer);\n",
       "          console.log(\"Bokeh: ERROR: Unable to run BokehJS code because BokehJS library is missing\");\n",
       "        }\n",
       "      }\n",
       "    }, 25, root)\n",
       "  }\n",
       "})(window);</script>"
      ],
      "text/plain": [
       "Tabs\n",
       "    [0] DataFrame(height=300, name='orders', sizing_mode='fixed', value=                   Variabl..., width=800)\n",
       "    [1] DataFrame(height=300, name='product', sizing_mode='fixed', value=                     Varia..., width=800)"
      ]
     },
     "execution_count": 24,
     "metadata": {
      "application/vnd.holoviews_exec.v0+json": {
       "id": "1009"
      }
     },
     "output_type": "execute_result"
    }
   ],
   "source": [
    "sum1 = eda.get_variable_summary(orders_df)\n",
    "sum2 = eda.get_variable_summary(prod_df)\n",
    "\n",
    "display_as_tabs([('orders', sum1), ('product', sum2)])"
   ]
  },
  {
   "cell_type": "code",
   "execution_count": 25,
   "metadata": {},
   "outputs": [
    {
     "data": {
      "text/plain": [
       "Channel             0\n",
       "LedgerDate          0\n",
       "InvoiceNo           0\n",
       "Customername        0\n",
       "Orderno             0\n",
       "OrderType           0\n",
       "SalesPerson         0\n",
       "InventoryID         0\n",
       "SKU                 0\n",
       "BusinessUnit        0\n",
       "Line                0\n",
       "Manufacturer        0\n",
       "Platforms           0\n",
       "Carrier             0\n",
       "LockStatus          0\n",
       "Quantity            0\n",
       "UnitCost            0\n",
       "UnitPrice           0\n",
       "SellingPrice        0\n",
       "SellingCost         0\n",
       "GP                  0\n",
       "Condition           0\n",
       "Technology          0\n",
       "Ext_ModelFamily    87\n",
       "Ext_Grade           1\n",
       "dtype: int64"
      ]
     },
     "execution_count": 25,
     "metadata": {},
     "output_type": "execute_result"
    }
   ],
   "source": [
    "orders_df.isna().sum()"
   ]
  },
  {
   "attachments": {},
   "cell_type": "markdown",
   "metadata": {},
   "source": [
    "**Dev NOTES**\n",
    "\n",
    "<details>\n",
    "1. Datatypes : We have both numeric and other types. The bulk of them seem to be numeric. `Numeric` is defined to be one of [float|int|date] and the rest are categorized as `Others`. A column is assumed to have `date` values if it has the string `date` in the column name.\n"
   ]
  },
  {
   "attachments": {},
   "cell_type": "markdown",
   "metadata": {},
   "source": [
    "## Merging\n",
    "\n",
    "We can merge orders table with prod table on SKU. Let us check first-cut cardinality issues. \n",
    "\n",
    "### Expected data validation rules"
   ]
  },
  {
   "attachments": {},
   "cell_type": "markdown",
   "metadata": {},
   "source": [
    "1. Quantity should be an integer\n",
    "2. Quantity * UnitCost = SellingCost\n",
    "3. Quantity * UnitPrice = SellingPrice"
   ]
  },
  {
   "cell_type": "code",
   "execution_count": 26,
   "metadata": {},
   "outputs": [],
   "source": [
    "verification_dict = {}\n",
    "orders_df = ge.from_pandas(orders_df)"
   ]
  },
  {
   "attachments": {},
   "cell_type": "markdown",
   "metadata": {},
   "source": [
    "#### Rule 1 verification"
   ]
  },
  {
   "cell_type": "code",
   "execution_count": 27,
   "metadata": {},
   "outputs": [
    {
     "name": "stdout",
     "output_type": "stream",
     "text": [
      "Rule 1 passed\n"
     ]
    }
   ],
   "source": [
    "verification_dict[\"rule_1_check\"] = orders_df.expect_column_values_to_be_of_type(\"Quantity\", \"int64\", mostly=None, \n",
    "                                             result_format=\"BASIC\", include_config=True).to_json_dict()\n",
    "\n",
    "if verification_dict[\"rule_1_check\"][\"success\"]:\n",
    "    print(\"Rule 1 passed\")\n",
    "else:\n",
    "    print(\"Rule 1 failed\")"
   ]
  },
  {
   "attachments": {},
   "cell_type": "markdown",
   "metadata": {},
   "source": [
    "#### Rule 2 verification"
   ]
  },
  {
   "cell_type": "code",
   "execution_count": 28,
   "metadata": {},
   "outputs": [
    {
     "name": "stdout",
     "output_type": "stream",
     "text": [
      "Rule 2 failed\n"
     ]
    }
   ],
   "source": [
    "orders_df[\"selling_cal\"] = orders_df[\"Quantity\"] * orders_df[\"UnitCost\"]\n",
    "orders_df.selling_cal = orders_df.selling_cal.round()\n",
    "orders_df[\"act_selling_round\"] = orders_df.SellingCost.round()\n",
    "verification_dict[\"rule_2_check\"] = orders_df.expect_column_pair_values_to_be_equal(\"selling_cal\", \"act_selling_round\", mostly=None, \n",
    "                                             result_format=\"BASIC\", include_config=True).to_json_dict()\n",
    "\n",
    "if verification_dict[\"rule_2_check\"][\"success\"]:\n",
    "    print(\"Rule 2 passed\")\n",
    "else:\n",
    "    print(\"Rule 2 failed\")"
   ]
  },
  {
   "attachments": {},
   "cell_type": "markdown",
   "metadata": {},
   "source": [
    "#### Rule 3 verification"
   ]
  },
  {
   "cell_type": "code",
   "execution_count": 29,
   "metadata": {},
   "outputs": [
    {
     "name": "stdout",
     "output_type": "stream",
     "text": [
      "Rule 3 failed\n"
     ]
    }
   ],
   "source": [
    "orders_df[\"selling_cal\"] = orders_df[\"Quantity\"] * orders_df[\"UnitPrice\"]\n",
    "orders_df.selling_cal = orders_df.selling_cal.round()\n",
    "orders_df[\"act_selling_round\"] = orders_df.SellingPrice.round()\n",
    "verification_dict[\"rule_3_check\"] = orders_df.expect_column_pair_values_to_be_equal(\"selling_cal\", \"act_selling_round\", mostly=None, \n",
    "                                             result_format=\"BASIC\", include_config=True).to_json_dict()\n",
    "\n",
    "if verification_dict[\"rule_3_check\"][\"success\"]:\n",
    "    print(\"Rule 3 passed\")\n",
    "else:\n",
    "    print(\"Rule 3 failed\")"
   ]
  },
  {
   "attachments": {},
   "cell_type": "markdown",
   "metadata": {},
   "source": [
    "#### Rule 2,3"
   ]
  },
  {
   "attachments": {},
   "cell_type": "markdown",
   "metadata": {},
   "source": [
    "Ideally by logic cost * units should give the total cost, however there are some orders where this condition is not matching. We should confirm these condition from client.\n",
    "\n",
    "Similar goes for Price * units"
   ]
  },
  {
   "cell_type": "code",
   "execution_count": 30,
   "metadata": {},
   "outputs": [],
   "source": [
    "# Back to Pandas\n",
    "orders_df = orders_df.drop('selling_cal', axis=1)\n",
    "orders_df = orders_df.drop('act_selling_round', axis=1)\n",
    "orders_df = pd.DataFrame(orders_df)"
   ]
  },
  {
   "attachments": {},
   "cell_type": "markdown",
   "metadata": {},
   "source": [
    "### Table cardinality"
   ]
  },
  {
   "cell_type": "code",
   "execution_count": 31,
   "metadata": {},
   "outputs": [
    {
     "data": {
      "text/plain": [
       "{'A-B': 5, 'B-A': 0, 'AuB': 13549, 'A^B': 13544}"
      ]
     },
     "execution_count": 31,
     "metadata": {},
     "output_type": "execute_result"
    }
   ],
   "source": [
    "from  ta_lib.core.api import setanalyse\n",
    "\n",
    "setanalyse(orders_df.SKU.tolist(),prod_df.SKU.tolist())"
   ]
  },
  {
   "attachments": {},
   "cell_type": "markdown",
   "metadata": {},
   "source": [
    "This represents a venn diagram on two lists. Left list is `A` & right one is `B`. `A-B` implies that are five SKUs in orders_df missing in product master. We can find them using unsimplied version.\n",
    "\n",
    "Let us look at the set `A-B`."
   ]
  },
  {
   "cell_type": "code",
   "execution_count": 32,
   "metadata": {},
   "outputs": [
    {
     "data": {
      "text/plain": [
       "{'APL AWS3AL(G) 42MM GLD CST',\n",
       " 'APL AWS3AL(G+C) 38MM GRY CST',\n",
       " 'SP3 SMS N920 NOTE5 32G GLD DST',\n",
       " 'SP3 SMS S8+ G955 BLK BER SPT',\n",
       " 'UNLKD SONY XPERIA XZS BLK 32GB'}"
      ]
     },
     "execution_count": 32,
     "metadata": {},
     "output_type": "execute_result"
    }
   ],
   "source": [
    "missings_master_skus = setanalyse(orders_df.SKU.tolist(),prod_df.SKU.tolist(),simplify=False)['A-B']\n",
    "missings_master_skus"
   ]
  },
  {
   "cell_type": "code",
   "execution_count": 33,
   "metadata": {},
   "outputs": [
    {
     "name": "stdout",
     "output_type": "stream",
     "text": [
      "Records affected due to missing keys are 402 accounting to 0.23% of orders\n"
     ]
    }
   ],
   "source": [
    "import numpy as np\n",
    "print(('Records affected due to missing keys are {0} accounting to {1}% of orders').format(\n",
    "    orders_df.SKU.isin(missings_master_skus).sum(),np.round(orders_df.SKU.isin(missings_master_skus).mean()*100,2)))"
   ]
  },
  {
   "attachments": {},
   "cell_type": "markdown",
   "metadata": {},
   "source": [
    "**Since missing keys are very less we can proceed with inner join**"
   ]
  },
  {
   "attachments": {},
   "cell_type": "markdown",
   "metadata": {},
   "source": [
    "**Dev NOTES**\n",
    "\n",
    "<details>\n",
    "1. Cardinality with mulitple keys: If you have more than one key use setanalyse_df. You can pass dataframes instead of lists and the key columns\n",
    "2. Excess master data (if `B-A` >0 in above example) will not be concern\n",
    "3. If the `A-B` is larger, please check with client for alternative data sources. In case of left join keep a stragey for imputing.\n"
   ]
  },
  {
   "attachments": {},
   "cell_type": "markdown",
   "metadata": {},
   "source": [
    "### Master uniqueness\n",
    "\n",
    "Product master is expected to have non duplicate primary keys. Let us verify them."
   ]
  },
  {
   "cell_type": "code",
   "execution_count": 34,
   "metadata": {},
   "outputs": [
    {
     "name": "stdout",
     "output_type": "stream",
     "text": [
      "Found 1 duplicates in master. Sample duplicates are:\n",
      "                              SKU  Frequency\n",
      "0  UNLKD SONY XPERIA XZS BLUE 32G          2\n"
     ]
    }
   ],
   "source": [
    "# Snippet \n",
    "df_freq = prod_df.SKU.value_counts().reset_index()\n",
    "df_freq.columns = ['SKU','Frequency']\n",
    "fil_ = df_freq.Frequency>1\n",
    "if fil_.sum() > 0:\n",
    "    print((\"Found {0} duplicates in master. Sample duplicates are:\").format(fil_.sum()))\n",
    "    print(df_freq[fil_].head())\n",
    "else:\n",
    "    print(\"No duplciates in primary key\")"
   ]
  },
  {
   "cell_type": "code",
   "execution_count": 35,
   "metadata": {},
   "outputs": [
    {
     "data": {
      "text/plain": [
       "13545"
      ]
     },
     "execution_count": 35,
     "metadata": {},
     "output_type": "execute_result"
    }
   ],
   "source": [
    "len(prod_df)"
   ]
  },
  {
   "cell_type": "code",
   "execution_count": 36,
   "metadata": {},
   "outputs": [
    {
     "name": "stdout",
     "output_type": "stream",
     "text": [
      "No. of rows before dropping duplicate SKUs: 13545\n",
      "No. of rows after dropping duplicate SKUs: 13544\n"
     ]
    }
   ],
   "source": [
    "# Dropping inconsistent records\n",
    "print((\"No. of rows before dropping duplicate SKUs: {0}\".format(prod_df.shape[0])))\n",
    "fil_ = (prod_df.SKU == 'UNLKD SONY XPERIA XZS BLUE 32G') & (prod_df.color.str.strip() == 'BLACK')\n",
    "prod_df = prod_df[~fil_]\n",
    "print((\"No. of rows after dropping duplicate SKUs: {0}\".format(prod_df.shape[0])))"
   ]
  },
  {
   "attachments": {},
   "cell_type": "markdown",
   "metadata": {},
   "source": [
    "## Health Analysis"
   ]
  },
  {
   "attachments": {},
   "cell_type": "markdown",
   "metadata": {},
   "source": [
    "Get an overview of the overall health of the dataset. This is usually quick to compute and hopefully highlights some problems to focus on.\n",
    "\n"
   ]
  },
  {
   "attachments": {},
   "cell_type": "markdown",
   "metadata": {},
   "source": [
    "### Summary Plot\n",
    "\n",
    "Provides a high level summary of the dataset health.\n",
    "\n",
    "**Watch out for:**\n",
    "\n",
    "* too few numeric values\n",
    "* high % of missing values\n",
    "* high % of duplicate values\n",
    "* high % of duplicate columns "
   ]
  },
  {
   "cell_type": "code",
   "execution_count": 37,
   "metadata": {},
   "outputs": [
    {
     "data": {},
     "metadata": {},
     "output_type": "display_data"
    },
    {
     "data": {},
     "metadata": {},
     "output_type": "display_data"
    },
    {
     "data": {
      "application/vnd.holoviews_exec.v0+json": "",
      "text/html": [
       "<div id='1109'>\n",
       "  <div class=\"bk-root\" id=\"cb851c9d-50ab-47a5-8128-3378eb237b4c\" data-root-id=\"1109\"></div>\n",
       "</div>\n",
       "<script type=\"application/javascript\">(function(root) {\n",
       "  function embed_document(root) {\n",
       "    var docs_json = {\"992b8192-7f36-4d74-bd2f-615838ed5939\":{\"defs\":[{\"extends\":null,\"module\":null,\"name\":\"ReactiveHTML1\",\"overrides\":[],\"properties\":[]},{\"extends\":null,\"module\":null,\"name\":\"FlexBox1\",\"overrides\":[],\"properties\":[{\"default\":\"flex-start\",\"kind\":null,\"name\":\"align_content\"},{\"default\":\"flex-start\",\"kind\":null,\"name\":\"align_items\"},{\"default\":\"row\",\"kind\":null,\"name\":\"flex_direction\"},{\"default\":\"wrap\",\"kind\":null,\"name\":\"flex_wrap\"},{\"default\":\"flex-start\",\"kind\":null,\"name\":\"justify_content\"}]},{\"extends\":null,\"module\":null,\"name\":\"GridStack1\",\"overrides\":[],\"properties\":[{\"default\":\"warn\",\"kind\":null,\"name\":\"mode\"},{\"default\":null,\"kind\":null,\"name\":\"ncols\"},{\"default\":null,\"kind\":null,\"name\":\"nrows\"},{\"default\":true,\"kind\":null,\"name\":\"allow_resize\"},{\"default\":true,\"kind\":null,\"name\":\"allow_drag\"},{\"default\":[],\"kind\":null,\"name\":\"state\"}]},{\"extends\":null,\"module\":null,\"name\":\"click1\",\"overrides\":[],\"properties\":[{\"default\":\"\",\"kind\":null,\"name\":\"terminal_output\"},{\"default\":\"\",\"kind\":null,\"name\":\"debug_name\"},{\"default\":0,\"kind\":null,\"name\":\"clears\"}]},{\"extends\":null,\"module\":null,\"name\":\"NotificationAreaBase1\",\"overrides\":[],\"properties\":[{\"default\":\"bottom-right\",\"kind\":null,\"name\":\"position\"},{\"default\":0,\"kind\":null,\"name\":\"_clear\"}]},{\"extends\":null,\"module\":null,\"name\":\"NotificationArea1\",\"overrides\":[],\"properties\":[{\"default\":[],\"kind\":null,\"name\":\"notifications\"},{\"default\":\"bottom-right\",\"kind\":null,\"name\":\"position\"},{\"default\":0,\"kind\":null,\"name\":\"_clear\"},{\"default\":[{\"background\":\"#ffc107\",\"icon\":{\"className\":\"fas fa-exclamation-triangle\",\"color\":\"white\",\"tagName\":\"i\"},\"type\":\"warning\"},{\"background\":\"#007bff\",\"icon\":{\"className\":\"fas fa-info-circle\",\"color\":\"white\",\"tagName\":\"i\"},\"type\":\"info\"}],\"kind\":null,\"name\":\"types\"}]},{\"extends\":null,\"module\":null,\"name\":\"Notification\",\"overrides\":[],\"properties\":[{\"default\":null,\"kind\":null,\"name\":\"background\"},{\"default\":3000,\"kind\":null,\"name\":\"duration\"},{\"default\":null,\"kind\":null,\"name\":\"icon\"},{\"default\":\"\",\"kind\":null,\"name\":\"message\"},{\"default\":null,\"kind\":null,\"name\":\"notification_type\"},{\"default\":false,\"kind\":null,\"name\":\"_destroyed\"}]},{\"extends\":null,\"module\":null,\"name\":\"TemplateActions1\",\"overrides\":[],\"properties\":[{\"default\":0,\"kind\":null,\"name\":\"open_modal\"},{\"default\":0,\"kind\":null,\"name\":\"close_modal\"}]},{\"extends\":null,\"module\":null,\"name\":\"MaterialTemplateActions1\",\"overrides\":[],\"properties\":[{\"default\":0,\"kind\":null,\"name\":\"open_modal\"},{\"default\":0,\"kind\":null,\"name\":\"close_modal\"}]}],\"roots\":{\"references\":[{\"attributes\":{\"below\":[{\"id\":\"1830\"}],\"center\":[{\"id\":\"1833\"},{\"id\":\"1836\"},{\"id\":\"1869\"}],\"height\":100,\"left\":[{\"id\":\"1834\"}],\"margin\":null,\"min_border_bottom\":10,\"min_border_left\":10,\"min_border_right\":10,\"min_border_top\":10,\"renderers\":[{\"id\":\"1857\"}],\"right\":[{\"id\":\"1869\"}],\"sizing_mode\":\"fixed\",\"title\":{\"id\":\"1822\"},\"toolbar\":{\"id\":\"1843\"},\"toolbar_location\":null,\"width\":700,\"x_range\":{\"id\":\"1110\"},\"x_scale\":{\"id\":\"1826\"},\"y_range\":{\"id\":\"1111\"},\"y_scale\":{\"id\":\"1828\"}},\"id\":\"1821\",\"subtype\":\"Figure\",\"type\":\"Plot\"},{\"attributes\":{},\"id\":\"1192\",\"type\":\"PanTool\"},{\"attributes\":{\"coordinates\":null,\"group\":null,\"text\":\"Missing Values\",\"text_color\":\"black\",\"text_font_size\":\"12pt\"},\"id\":\"1176\",\"type\":\"Title\"},{\"attributes\":{\"fill_color\":{\"field\":\"labels\",\"transform\":{\"id\":\"1912\"}},\"hatch_color\":{\"field\":\"labels\",\"transform\":{\"id\":\"1912\"}},\"height\":{\"value\":0.8},\"left\":{\"field\":\"bottom\"},\"right\":{\"field\":\"top\"},\"y\":{\"field\":\"index\"}},\"id\":\"1916\",\"type\":\"HBar\"},{\"attributes\":{},\"id\":\"1244\",\"type\":\"CategoricalScale\"},{\"attributes\":{\"coordinates\":null,\"group\":null,\"text\":\"Datatypes\",\"text_color\":\"black\",\"text_font_size\":\"12pt\"},\"id\":\"1698\",\"type\":\"Title\"},{\"attributes\":{\"axis\":{\"id\":\"1184\"},\"coordinates\":null,\"grid_line_color\":null,\"group\":null,\"ticker\":null},\"id\":\"1187\",\"type\":\"Grid\"},{\"attributes\":{\"fill_alpha\":{\"value\":0.2},\"fill_color\":{\"field\":\"labels\",\"transform\":{\"id\":\"1850\"}},\"hatch_alpha\":{\"value\":0.2},\"hatch_color\":{\"field\":\"labels\",\"transform\":{\"id\":\"1850\"}},\"height\":{\"value\":0.8},\"left\":{\"field\":\"bottom\"},\"line_alpha\":{\"value\":0.2},\"right\":{\"field\":\"top\"},\"y\":{\"field\":\"index\"}},\"id\":\"1856\",\"type\":\"HBar\"},{\"attributes\":{\"fill_color\":{\"field\":\"labels\",\"transform\":{\"id\":\"1850\"}},\"hatch_color\":{\"field\":\"labels\",\"transform\":{\"id\":\"1850\"}},\"height\":{\"value\":0.8},\"left\":{\"field\":\"bottom\"},\"right\":{\"field\":\"top\"},\"y\":{\"field\":\"index\"}},\"id\":\"1854\",\"type\":\"HBar\"},{\"attributes\":{},\"id\":\"1899\",\"type\":\"SaveTool\"},{\"attributes\":{\"fill_color\":{\"field\":\"labels\",\"transform\":{\"id\":\"1204\"}},\"hatch_color\":{\"field\":\"labels\",\"transform\":{\"id\":\"1204\"}},\"height\":{\"value\":0.8},\"left\":{\"field\":\"bottom\"},\"right\":{\"field\":\"top\"},\"y\":{\"field\":\"index\"}},\"id\":\"1208\",\"type\":\"HBar\"},{\"attributes\":{},\"id\":\"1281\",\"type\":\"AllLabels\"},{\"attributes\":{\"axis_label\":\"\",\"coordinates\":null,\"formatter\":{\"id\":\"1215\"},\"group\":null,\"major_label_policy\":{\"id\":\"1216\"},\"ticker\":{\"id\":\"1189\"}},\"id\":\"1188\",\"type\":\"CategoricalAxis\"},{\"attributes\":{},\"id\":\"1839\",\"type\":\"WheelZoomTool\"},{\"attributes\":{\"overlay\":{\"id\":\"1842\"}},\"id\":\"1840\",\"type\":\"BoxZoomTool\"},{\"attributes\":{\"fill_alpha\":{\"value\":0.2},\"fill_color\":{\"field\":\"labels\",\"transform\":{\"id\":\"1204\"}},\"hatch_alpha\":{\"value\":0.2},\"hatch_color\":{\"field\":\"labels\",\"transform\":{\"id\":\"1204\"}},\"height\":{\"value\":0.8},\"left\":{\"field\":\"bottom\"},\"line_alpha\":{\"value\":0.2},\"right\":{\"field\":\"top\"},\"y\":{\"field\":\"index\"}},\"id\":\"1210\",\"type\":\"HBar\"},{\"attributes\":{\"axis_label\":\"\",\"coordinates\":null,\"formatter\":{\"id\":\"1923\"},\"group\":null,\"major_label_policy\":{\"id\":\"1924\"},\"ticker\":{\"id\":\"1897\"}},\"id\":\"1896\",\"type\":\"CategoricalAxis\"},{\"attributes\":{},\"id\":\"1253\",\"type\":\"SaveTool\"},{\"attributes\":{},\"id\":\"1280\",\"type\":\"BasicTickFormatter\"},{\"attributes\":{},\"id\":\"1702\",\"type\":\"LinearScale\"},{\"attributes\":{\"callback\":null,\"renderers\":[{\"id\":\"1211\"}],\"tags\":[\"hv_created\"],\"tooltips\":[[\"index\",\"@{index}\"],[\"labels\",\"@{labels}\"],[\"value\",\"@{value}\"]]},\"id\":\"1174\",\"type\":\"HoverTool\"},{\"attributes\":{\"fill_alpha\":{\"value\":0.2},\"fill_color\":{\"field\":\"labels\",\"transform\":{\"id\":\"1912\"}},\"hatch_alpha\":{\"value\":0.2},\"hatch_color\":{\"field\":\"labels\",\"transform\":{\"id\":\"1912\"}},\"height\":{\"value\":0.8},\"left\":{\"field\":\"bottom\"},\"line_alpha\":{\"value\":0.2},\"right\":{\"field\":\"top\"},\"y\":{\"field\":\"index\"}},\"id\":\"1918\",\"type\":\"HBar\"},{\"attributes\":{},\"id\":\"1193\",\"type\":\"WheelZoomTool\"},{\"attributes\":{\"bottom_units\":\"screen\",\"coordinates\":null,\"fill_alpha\":0.5,\"fill_color\":\"lightgrey\",\"group\":null,\"left_units\":\"screen\",\"level\":\"overlay\",\"line_alpha\":1.0,\"line_color\":\"black\",\"line_dash\":[4,4],\"line_width\":2,\"right_units\":\"screen\",\"syncable\":false,\"top_units\":\"screen\"},\"id\":\"1842\",\"type\":\"BoxAnnotation\"},{\"attributes\":{\"overlay\":{\"id\":\"1196\"}},\"id\":\"1194\",\"type\":\"BoxZoomTool\"},{\"attributes\":{\"below\":[{\"id\":\"1706\"}],\"center\":[{\"id\":\"1709\"},{\"id\":\"1712\"},{\"id\":\"1745\"}],\"height\":100,\"left\":[{\"id\":\"1710\"}],\"margin\":null,\"min_border_bottom\":10,\"min_border_left\":10,\"min_border_right\":10,\"min_border_top\":10,\"renderers\":[{\"id\":\"1733\"}],\"right\":[{\"id\":\"1745\"}],\"sizing_mode\":\"fixed\",\"title\":{\"id\":\"1698\"},\"toolbar\":{\"id\":\"1719\"},\"toolbar_location\":null,\"width\":700,\"x_range\":{\"id\":\"1110\"},\"x_scale\":{\"id\":\"1702\"},\"y_range\":{\"id\":\"1111\"},\"y_scale\":{\"id\":\"1704\"}},\"id\":\"1697\",\"subtype\":\"Figure\",\"type\":\"Plot\"},{\"attributes\":{},\"id\":\"1924\",\"type\":\"AllLabels\"},{\"attributes\":{\"bottom_units\":\"screen\",\"coordinates\":null,\"fill_alpha\":0.5,\"fill_color\":\"lightgrey\",\"group\":null,\"left_units\":\"screen\",\"level\":\"overlay\",\"line_alpha\":1.0,\"line_color\":\"black\",\"line_dash\":[4,4],\"line_width\":2,\"right_units\":\"screen\",\"syncable\":false,\"top_units\":\"screen\"},\"id\":\"1196\",\"type\":\"BoxAnnotation\"},{\"attributes\":{},\"id\":\"1799\",\"type\":\"CategoricalTickFormatter\"},{\"attributes\":{\"below\":[{\"id\":\"1184\"}],\"center\":[{\"id\":\"1187\"},{\"id\":\"1190\"},{\"id\":\"1223\"}],\"height\":100,\"left\":[{\"id\":\"1188\"}],\"margin\":null,\"min_border_bottom\":10,\"min_border_left\":10,\"min_border_right\":10,\"min_border_top\":10,\"renderers\":[{\"id\":\"1211\"}],\"right\":[{\"id\":\"1223\"}],\"sizing_mode\":\"fixed\",\"title\":{\"id\":\"1176\"},\"toolbar\":{\"id\":\"1197\"},\"toolbar_location\":null,\"width\":700,\"x_range\":{\"id\":\"1110\"},\"x_scale\":{\"id\":\"1180\"},\"y_range\":{\"id\":\"1111\"},\"y_scale\":{\"id\":\"1182\"}},\"id\":\"1175\",\"subtype\":\"Figure\",\"type\":\"Plot\"},{\"attributes\":{\"callback\":null,\"renderers\":[{\"id\":\"1733\"}],\"tags\":[\"hv_created\"],\"tooltips\":[[\"index\",\"@{index}\"],[\"labels\",\"@{labels}\"],[\"value\",\"@{value}\"]]},\"id\":\"1696\",\"type\":\"HoverTool\"},{\"attributes\":{\"axis_label\":\"\",\"coordinates\":null,\"formatter\":{\"id\":\"1861\"},\"group\":null,\"major_label_policy\":{\"id\":\"1862\"},\"ticker\":{\"id\":\"1835\"}},\"id\":\"1834\",\"type\":\"CategoricalAxis\"},{\"attributes\":{\"children\":[[{\"id\":\"1697\"},0,0],[{\"id\":\"1759\"},1,0],[{\"id\":\"1821\"},2,0],[{\"id\":\"1883\"},3,0]]},\"id\":\"1983\",\"type\":\"GridBox\"},{\"attributes\":{},\"id\":\"1282\",\"type\":\"UnionRenderers\"},{\"attributes\":{\"coordinates\":null,\"group\":null,\"items\":[{\"id\":\"1932\"}],\"location\":[0,0]},\"id\":\"1931\",\"type\":\"Legend\"},{\"attributes\":{},\"id\":\"1195\",\"type\":\"ResetTool\"},{\"attributes\":{\"coordinates\":null,\"group\":null,\"text\":\"Duplicate Values\",\"text_color\":\"black\",\"text_font_size\":\"12pt\"},\"id\":\"1822\",\"type\":\"Title\"},{\"attributes\":{\"tools\":[{\"id\":\"1758\"},{\"id\":\"1775\"},{\"id\":\"1776\"},{\"id\":\"1777\"},{\"id\":\"1778\"},{\"id\":\"1779\"}]},\"id\":\"1781\",\"type\":\"Toolbar\"},{\"attributes\":{\"fill_alpha\":{\"value\":0.1},\"fill_color\":{\"field\":\"labels\",\"transform\":{\"id\":\"1912\"}},\"hatch_alpha\":{\"value\":0.1},\"hatch_color\":{\"field\":\"labels\",\"transform\":{\"id\":\"1912\"}},\"height\":{\"value\":0.8},\"left\":{\"field\":\"bottom\"},\"line_alpha\":{\"value\":0.1},\"right\":{\"field\":\"top\"},\"y\":{\"field\":\"index\"}},\"id\":\"1917\",\"type\":\"HBar\"},{\"attributes\":{\"callback\":null,\"renderers\":[{\"id\":\"1857\"}],\"tags\":[\"hv_created\"],\"tooltips\":[[\"index\",\"@{index}\"],[\"labels\",\"@{labels}\"],[\"value\",\"@{value}\"]]},\"id\":\"1820\",\"type\":\"HoverTool\"},{\"attributes\":{\"coordinates\":null,\"group\":null,\"items\":[{\"id\":\"1224\"}],\"location\":[0,0]},\"id\":\"1223\",\"type\":\"Legend\"},{\"attributes\":{},\"id\":\"1180\",\"type\":\"LinearScale\"},{\"attributes\":{},\"id\":\"1191\",\"type\":\"SaveTool\"},{\"attributes\":{},\"id\":\"1927\",\"type\":\"AllLabels\"},{\"attributes\":{\"data\":{\"bottom\":{\"__ndarray__\":\"AAAAAAAAAAAgbW0DpOZYQA==\",\"dtype\":\"float64\",\"order\":\"little\",\"shape\":[2]},\"index\":[\"values\",\"values\"],\"labels\":[\"Available\",\"Missing\"],\"top\":{\"__ndarray__\":\"IG1tA6TmWEAAAAAAAABZQA==\",\"dtype\":\"float64\",\"order\":\"little\",\"shape\":[2]},\"value\":{\"__ndarray__\":\"IG1tA6TmWEBM4JKS/FvZPw==\",\"dtype\":\"float64\",\"order\":\"little\",\"shape\":[2]}},\"selected\":{\"id\":\"1790\"},\"selection_policy\":{\"id\":\"1804\"}},\"id\":\"1789\",\"type\":\"ColumnDataSource\"},{\"attributes\":{},\"id\":\"1182\",\"type\":\"CategoricalScale\"},{\"attributes\":{},\"id\":\"1206\",\"type\":\"Selection\"},{\"attributes\":{\"toolbar\":{\"id\":\"1400\"},\"toolbar_location\":\"above\"},\"id\":\"1401\",\"type\":\"ToolbarBox\"},{\"attributes\":{\"axis_label\":\"\",\"coordinates\":null,\"formatter\":{\"id\":\"1218\"},\"group\":null,\"major_label_policy\":{\"id\":\"1219\"},\"ticker\":{\"id\":\"1226\"}},\"id\":\"1184\",\"type\":\"LinearAxis\"},{\"attributes\":{\"factors\":[\"Unique\",\"Duplicate\"],\"palette\":[\"#30a2da\",\"#fc4f30\"]},\"id\":\"1912\",\"type\":\"CategoricalColorMapper\"},{\"attributes\":{\"axis\":{\"id\":\"1188\"},\"coordinates\":null,\"dimension\":1,\"grid_line_color\":null,\"group\":null,\"ticker\":null},\"id\":\"1190\",\"type\":\"Grid\"},{\"attributes\":{},\"id\":\"1218\",\"type\":\"BasicTickFormatter\"},{\"attributes\":{\"factors\":[\"Numeric\",\"Others\"],\"palette\":[\"#30a2da\",\"#fc4f30\"]},\"id\":\"1726\",\"type\":\"CategoricalColorMapper\"},{\"attributes\":{},\"id\":\"1189\",\"type\":\"CategoricalTicker\"},{\"attributes\":{},\"id\":\"1216\",\"type\":\"AllLabels\"},{\"attributes\":{},\"id\":\"1717\",\"type\":\"ResetTool\"},{\"attributes\":{},\"id\":\"1926\",\"type\":\"BasicTickFormatter\"},{\"attributes\":{\"axis_label\":\"\",\"coordinates\":null,\"formatter\":{\"id\":\"1740\"},\"group\":null,\"major_label_policy\":{\"id\":\"1741\"},\"ticker\":{\"id\":\"1748\"}},\"id\":\"1706\",\"type\":\"LinearAxis\"},{\"attributes\":{\"coordinates\":null,\"data_source\":{\"id\":\"1789\"},\"glyph\":{\"id\":\"1792\"},\"group\":null,\"hover_glyph\":null,\"muted_glyph\":{\"id\":\"1794\"},\"nonselection_glyph\":{\"id\":\"1793\"},\"selection_glyph\":{\"id\":\"1809\"},\"view\":{\"id\":\"1796\"}},\"id\":\"1795\",\"type\":\"GlyphRenderer\"},{\"attributes\":{\"fill_alpha\":{\"value\":0.1},\"fill_color\":{\"field\":\"labels\",\"transform\":{\"id\":\"1204\"}},\"hatch_alpha\":{\"value\":0.1},\"hatch_color\":{\"field\":\"labels\",\"transform\":{\"id\":\"1204\"}},\"height\":{\"value\":0.8},\"left\":{\"field\":\"bottom\"},\"line_alpha\":{\"value\":0.1},\"right\":{\"field\":\"top\"},\"y\":{\"field\":\"index\"}},\"id\":\"1209\",\"type\":\"HBar\"},{\"attributes\":{\"source\":{\"id\":\"1789\"}},\"id\":\"1796\",\"type\":\"CDSView\"},{\"attributes\":{},\"id\":\"1713\",\"type\":\"SaveTool\"},{\"attributes\":{\"source\":{\"id\":\"1913\"}},\"id\":\"1920\",\"type\":\"CDSView\"},{\"attributes\":{\"ticks\":[0]},\"id\":\"1288\",\"type\":\"FixedTicker\"},{\"attributes\":{\"bottom_units\":\"screen\",\"coordinates\":null,\"fill_alpha\":0.5,\"fill_color\":\"lightgrey\",\"group\":null,\"left_units\":\"screen\",\"level\":\"overlay\",\"line_alpha\":1.0,\"line_color\":\"black\",\"line_dash\":[4,4],\"line_width\":2,\"right_units\":\"screen\",\"syncable\":false,\"top_units\":\"screen\"},\"id\":\"1718\",\"type\":\"BoxAnnotation\"},{\"attributes\":{\"axis\":{\"id\":\"1308\"},\"coordinates\":null,\"grid_line_color\":null,\"group\":null,\"ticker\":null},\"id\":\"1311\",\"type\":\"Grid\"},{\"attributes\":{\"ticks\":[0]},\"id\":\"1810\",\"type\":\"FixedTicker\"},{\"attributes\":{},\"id\":\"1923\",\"type\":\"CategoricalTickFormatter\"},{\"attributes\":{\"factors\":[\"Available\",\"Missing\"],\"palette\":[\"#30a2da\",\"#fc4f30\"]},\"id\":\"1204\",\"type\":\"CategoricalColorMapper\"},{\"attributes\":{\"toolbars\":[{\"id\":\"1719\"},{\"id\":\"1781\"},{\"id\":\"1843\"},{\"id\":\"1905\"}],\"tools\":[{\"id\":\"1696\"},{\"id\":\"1713\"},{\"id\":\"1714\"},{\"id\":\"1715\"},{\"id\":\"1716\"},{\"id\":\"1717\"},{\"id\":\"1758\"},{\"id\":\"1775\"},{\"id\":\"1776\"},{\"id\":\"1777\"},{\"id\":\"1778\"},{\"id\":\"1779\"},{\"id\":\"1820\"},{\"id\":\"1837\"},{\"id\":\"1838\"},{\"id\":\"1839\"},{\"id\":\"1840\"},{\"id\":\"1841\"},{\"id\":\"1882\"},{\"id\":\"1899\"},{\"id\":\"1900\"},{\"id\":\"1901\"},{\"id\":\"1902\"},{\"id\":\"1903\"}]},\"id\":\"1984\",\"type\":\"ProxyToolbar\"},{\"attributes\":{\"axis_label\":\"\",\"coordinates\":null,\"formatter\":{\"id\":\"1737\"},\"group\":null,\"major_label_policy\":{\"id\":\"1738\"},\"ticker\":{\"id\":\"1711\"}},\"id\":\"1710\",\"type\":\"CategoricalAxis\"},{\"attributes\":{\"coordinates\":null,\"data_source\":{\"id\":\"1727\"},\"glyph\":{\"id\":\"1730\"},\"group\":null,\"hover_glyph\":null,\"muted_glyph\":{\"id\":\"1732\"},\"nonselection_glyph\":{\"id\":\"1731\"},\"selection_glyph\":{\"id\":\"1747\"},\"view\":{\"id\":\"1734\"}},\"id\":\"1733\",\"type\":\"GlyphRenderer\"},{\"attributes\":{},\"id\":\"1914\",\"type\":\"Selection\"},{\"attributes\":{},\"id\":\"1704\",\"type\":\"CategoricalScale\"},{\"attributes\":{\"fill_alpha\":{\"value\":1.0},\"fill_color\":{\"field\":\"labels\",\"transform\":{\"id\":\"1788\"}},\"hatch_alpha\":{\"value\":1.0},\"hatch_color\":{\"field\":\"labels\",\"transform\":{\"id\":\"1788\"}},\"hatch_scale\":{\"value\":12.0},\"hatch_weight\":{\"value\":1.0},\"height\":{\"value\":0.8},\"left\":{\"field\":\"bottom\"},\"line_alpha\":{\"value\":1.0},\"line_cap\":{\"value\":\"butt\"},\"line_color\":{\"value\":\"black\"},\"line_dash\":{\"value\":[]},\"line_dash_offset\":{\"value\":0},\"line_join\":{\"value\":\"bevel\"},\"line_width\":{\"value\":1},\"right\":{\"field\":\"top\"},\"y\":{\"field\":\"index\"}},\"id\":\"1809\",\"type\":\"HBar\"},{\"attributes\":{\"coordinates\":null,\"data_source\":{\"id\":\"1913\"},\"glyph\":{\"id\":\"1916\"},\"group\":null,\"hover_glyph\":null,\"muted_glyph\":{\"id\":\"1918\"},\"nonselection_glyph\":{\"id\":\"1917\"},\"selection_glyph\":{\"id\":\"1933\"},\"view\":{\"id\":\"1920\"}},\"id\":\"1919\",\"type\":\"GlyphRenderer\"},{\"attributes\":{\"axis\":{\"id\":\"1830\"},\"coordinates\":null,\"grid_line_color\":null,\"group\":null,\"ticker\":null},\"id\":\"1833\",\"type\":\"Grid\"},{\"attributes\":{},\"id\":\"1219\",\"type\":\"AllLabels\"},{\"attributes\":{},\"id\":\"1317\",\"type\":\"WheelZoomTool\"},{\"attributes\":{\"axis\":{\"id\":\"1706\"},\"coordinates\":null,\"grid_line_color\":null,\"group\":null,\"ticker\":null},\"id\":\"1709\",\"type\":\"Grid\"},{\"attributes\":{},\"id\":\"1711\",\"type\":\"CategoricalTicker\"},{\"attributes\":{\"axis\":{\"id\":\"1710\"},\"coordinates\":null,\"dimension\":1,\"grid_line_color\":null,\"group\":null,\"ticker\":null},\"id\":\"1712\",\"type\":\"Grid\"},{\"attributes\":{},\"id\":\"1277\",\"type\":\"CategoricalTickFormatter\"},{\"attributes\":{},\"id\":\"1215\",\"type\":\"CategoricalTickFormatter\"},{\"attributes\":{},\"id\":\"1728\",\"type\":\"Selection\"},{\"attributes\":{\"coordinates\":null,\"group\":null,\"text\":\"Duplicate Columns\",\"text_color\":\"black\",\"text_font_size\":\"12pt\"},\"id\":\"1300\",\"type\":\"Title\"},{\"attributes\":{\"fill_alpha\":{\"value\":1.0},\"fill_color\":{\"field\":\"labels\",\"transform\":{\"id\":\"1726\"}},\"hatch_alpha\":{\"value\":1.0},\"hatch_color\":{\"field\":\"labels\",\"transform\":{\"id\":\"1726\"}},\"hatch_scale\":{\"value\":12.0},\"hatch_weight\":{\"value\":1.0},\"height\":{\"value\":0.8},\"left\":{\"field\":\"bottom\"},\"line_alpha\":{\"value\":1.0},\"line_cap\":{\"value\":\"butt\"},\"line_color\":{\"value\":\"black\"},\"line_dash\":{\"value\":[]},\"line_dash_offset\":{\"value\":0},\"line_join\":{\"value\":\"bevel\"},\"line_width\":{\"value\":1},\"right\":{\"field\":\"top\"},\"y\":{\"field\":\"index\"}},\"id\":\"1747\",\"type\":\"HBar\"},{\"attributes\":{},\"id\":\"1766\",\"type\":\"CategoricalScale\"},{\"attributes\":{\"axis_label\":\"\",\"coordinates\":null,\"formatter\":{\"id\":\"1339\"},\"group\":null,\"major_label_policy\":{\"id\":\"1340\"},\"ticker\":{\"id\":\"1313\"}},\"id\":\"1312\",\"type\":\"CategoricalAxis\"},{\"attributes\":{\"callback\":null,\"renderers\":[{\"id\":\"1335\"}],\"tags\":[\"hv_created\"],\"tooltips\":[[\"index\",\"@{index}\"],[\"labels\",\"@{labels}\"],[\"value\",\"@{value}\"]]},\"id\":\"1298\",\"type\":\"HoverTool\"},{\"attributes\":{},\"id\":\"1715\",\"type\":\"WheelZoomTool\"},{\"attributes\":{\"source\":{\"id\":\"1205\"}},\"id\":\"1212\",\"type\":\"CDSView\"},{\"attributes\":{},\"id\":\"1838\",\"type\":\"PanTool\"},{\"attributes\":{\"axis_label\":\"\",\"coordinates\":null,\"formatter\":{\"id\":\"1342\"},\"group\":null,\"major_label_policy\":{\"id\":\"1343\"},\"ticker\":{\"id\":\"1350\"}},\"id\":\"1308\",\"type\":\"LinearAxis\"},{\"attributes\":{},\"id\":\"1118\",\"type\":\"LinearScale\"},{\"attributes\":{},\"id\":\"1928\",\"type\":\"UnionRenderers\"},{\"attributes\":{\"ticks\":[0]},\"id\":\"1748\",\"type\":\"FixedTicker\"},{\"attributes\":{\"fill_color\":{\"field\":\"labels\",\"transform\":{\"id\":\"1328\"}},\"hatch_color\":{\"field\":\"labels\",\"transform\":{\"id\":\"1328\"}},\"height\":{\"value\":0.8},\"left\":{\"field\":\"bottom\"},\"right\":{\"field\":\"top\"},\"y\":{\"field\":\"index\"}},\"id\":\"1332\",\"type\":\"HBar\"},{\"attributes\":{\"fill_alpha\":{\"value\":0.2},\"fill_color\":{\"field\":\"labels\",\"transform\":{\"id\":\"1328\"}},\"hatch_alpha\":{\"value\":0.2},\"hatch_color\":{\"field\":\"labels\",\"transform\":{\"id\":\"1328\"}},\"height\":{\"value\":0.8},\"left\":{\"field\":\"bottom\"},\"line_alpha\":{\"value\":0.2},\"right\":{\"field\":\"top\"},\"y\":{\"field\":\"index\"}},\"id\":\"1334\",\"type\":\"HBar\"},{\"attributes\":{\"below\":[{\"id\":\"1122\"}],\"center\":[{\"id\":\"1125\"},{\"id\":\"1128\"},{\"id\":\"1161\"}],\"height\":100,\"left\":[{\"id\":\"1126\"}],\"margin\":null,\"min_border_bottom\":10,\"min_border_left\":10,\"min_border_right\":10,\"min_border_top\":10,\"renderers\":[{\"id\":\"1149\"}],\"right\":[{\"id\":\"1161\"}],\"sizing_mode\":\"fixed\",\"title\":{\"id\":\"1114\"},\"toolbar\":{\"id\":\"1135\"},\"toolbar_location\":null,\"width\":700,\"x_range\":{\"id\":\"1110\"},\"x_scale\":{\"id\":\"1118\"},\"y_range\":{\"id\":\"1111\"},\"y_scale\":{\"id\":\"1120\"}},\"id\":\"1113\",\"subtype\":\"Figure\",\"type\":\"Plot\"},{\"attributes\":{},\"id\":\"1841\",\"type\":\"ResetTool\"},{\"attributes\":{},\"id\":\"1316\",\"type\":\"PanTool\"},{\"attributes\":{\"toolbars\":[{\"id\":\"1135\"},{\"id\":\"1197\"},{\"id\":\"1259\"},{\"id\":\"1321\"}],\"tools\":[{\"id\":\"1112\"},{\"id\":\"1129\"},{\"id\":\"1130\"},{\"id\":\"1131\"},{\"id\":\"1132\"},{\"id\":\"1133\"},{\"id\":\"1174\"},{\"id\":\"1191\"},{\"id\":\"1192\"},{\"id\":\"1193\"},{\"id\":\"1194\"},{\"id\":\"1195\"},{\"id\":\"1236\"},{\"id\":\"1253\"},{\"id\":\"1254\"},{\"id\":\"1255\"},{\"id\":\"1256\"},{\"id\":\"1257\"},{\"id\":\"1298\"},{\"id\":\"1315\"},{\"id\":\"1316\"},{\"id\":\"1317\"},{\"id\":\"1318\"},{\"id\":\"1319\"}]},\"id\":\"1400\",\"type\":\"ProxyToolbar\"},{\"attributes\":{},\"id\":\"1130\",\"type\":\"PanTool\"},{\"attributes\":{\"fill_alpha\":{\"value\":0.2},\"fill_color\":{\"field\":\"labels\",\"transform\":{\"id\":\"1726\"}},\"hatch_alpha\":{\"value\":0.2},\"hatch_color\":{\"field\":\"labels\",\"transform\":{\"id\":\"1726\"}},\"height\":{\"value\":0.8},\"left\":{\"field\":\"bottom\"},\"line_alpha\":{\"value\":0.2},\"right\":{\"field\":\"top\"},\"y\":{\"field\":\"index\"}},\"id\":\"1732\",\"type\":\"HBar\"},{\"attributes\":{\"tools\":[{\"id\":\"1174\"},{\"id\":\"1191\"},{\"id\":\"1192\"},{\"id\":\"1193\"},{\"id\":\"1194\"},{\"id\":\"1195\"}]},\"id\":\"1197\",\"type\":\"Toolbar\"},{\"attributes\":{},\"id\":\"1120\",\"type\":\"CategoricalScale\"},{\"attributes\":{\"bottom_units\":\"screen\",\"coordinates\":null,\"fill_alpha\":0.5,\"fill_color\":\"lightgrey\",\"group\":null,\"left_units\":\"screen\",\"level\":\"overlay\",\"line_alpha\":1.0,\"line_color\":\"black\",\"line_dash\":[4,4],\"line_width\":2,\"right_units\":\"screen\",\"syncable\":false,\"top_units\":\"screen\"},\"id\":\"1320\",\"type\":\"BoxAnnotation\"},{\"attributes\":{\"data\":{\"bottom\":{\"__ndarray__\":\"AAAAAAAAAAAAAAAAAAAQQAAAAAAAAEZA\",\"dtype\":\"float64\",\"order\":\"little\",\"shape\":[3]},\"index\":[\"values\",\"values\",\"values\"],\"labels\":[\"Date\",\"Numeric\",\"Others\"],\"top\":{\"__ndarray__\":\"AAAAAAAAEEAAAAAAAABGQAAAAAAAAFlA\",\"dtype\":\"float64\",\"order\":\"little\",\"shape\":[3]},\"value\":{\"__ndarray__\":\"AAAAAAAAEEAAAAAAAABEQAEAAAAAAExA\",\"dtype\":\"float64\",\"order\":\"little\",\"shape\":[3]}},\"selected\":{\"id\":\"1144\"},\"selection_policy\":{\"id\":\"1158\"}},\"id\":\"1143\",\"type\":\"ColumnDataSource\"},{\"attributes\":{},\"id\":\"1129\",\"type\":\"SaveTool\"},{\"attributes\":{\"coordinates\":null,\"data_source\":{\"id\":\"1205\"},\"glyph\":{\"id\":\"1208\"},\"group\":null,\"hover_glyph\":null,\"muted_glyph\":{\"id\":\"1210\"},\"nonselection_glyph\":{\"id\":\"1209\"},\"selection_glyph\":{\"id\":\"1225\"},\"view\":{\"id\":\"1212\"}},\"id\":\"1211\",\"type\":\"GlyphRenderer\"},{\"attributes\":{\"below\":[{\"id\":\"1308\"}],\"center\":[{\"id\":\"1311\"},{\"id\":\"1314\"},{\"id\":\"1347\"}],\"height\":100,\"left\":[{\"id\":\"1312\"}],\"margin\":null,\"min_border_bottom\":10,\"min_border_left\":10,\"min_border_right\":10,\"min_border_top\":10,\"renderers\":[{\"id\":\"1335\"}],\"right\":[{\"id\":\"1347\"}],\"sizing_mode\":\"fixed\",\"title\":{\"id\":\"1300\"},\"toolbar\":{\"id\":\"1321\"},\"toolbar_location\":null,\"width\":700,\"x_range\":{\"id\":\"1110\"},\"x_scale\":{\"id\":\"1304\"},\"y_range\":{\"id\":\"1111\"},\"y_scale\":{\"id\":\"1306\"}},\"id\":\"1299\",\"subtype\":\"Figure\",\"type\":\"Plot\"},{\"attributes\":{\"callback\":null,\"renderers\":[{\"id\":\"1795\"}],\"tags\":[\"hv_created\"],\"tooltips\":[[\"index\",\"@{index}\"],[\"labels\",\"@{labels}\"],[\"value\",\"@{value}\"]]},\"id\":\"1758\",\"type\":\"HoverTool\"},{\"attributes\":{},\"id\":\"1133\",\"type\":\"ResetTool\"},{\"attributes\":{},\"id\":\"1153\",\"type\":\"CategoricalTickFormatter\"},{\"attributes\":{\"coordinates\":null,\"group\":null,\"items\":[{\"id\":\"1870\"}],\"location\":[0,0]},\"id\":\"1869\",\"type\":\"Legend\"},{\"attributes\":{},\"id\":\"1776\",\"type\":\"PanTool\"},{\"attributes\":{},\"id\":\"1826\",\"type\":\"LinearScale\"},{\"attributes\":{\"end\":100.0,\"reset_end\":100.0,\"reset_start\":0.0,\"tags\":[[[\"value\",\"value\",null]]]},\"id\":\"1110\",\"type\":\"Range1d\"},{\"attributes\":{},\"id\":\"1837\",\"type\":\"SaveTool\"},{\"attributes\":{},\"id\":\"1304\",\"type\":\"LinearScale\"},{\"attributes\":{\"axis_label\":\"\",\"coordinates\":null,\"formatter\":{\"id\":\"1799\"},\"group\":null,\"major_label_policy\":{\"id\":\"1800\"},\"ticker\":{\"id\":\"1773\"}},\"id\":\"1772\",\"type\":\"CategoricalAxis\"},{\"attributes\":{\"axis_label\":\"\",\"coordinates\":null,\"formatter\":{\"id\":\"1156\"},\"group\":null,\"major_label_policy\":{\"id\":\"1157\"},\"ticker\":{\"id\":\"1164\"}},\"id\":\"1122\",\"type\":\"LinearAxis\"},{\"attributes\":{\"overlay\":{\"id\":\"1780\"}},\"id\":\"1778\",\"type\":\"BoxZoomTool\"},{\"attributes\":{\"axis_label\":\"\",\"coordinates\":null,\"formatter\":{\"id\":\"1802\"},\"group\":null,\"major_label_policy\":{\"id\":\"1803\"},\"ticker\":{\"id\":\"1810\"}},\"id\":\"1768\",\"type\":\"LinearAxis\"},{\"attributes\":{},\"id\":\"1828\",\"type\":\"CategoricalScale\"},{\"attributes\":{\"coordinates\":null,\"group\":null,\"text\":\"Missing Values\",\"text_color\":\"black\",\"text_font_size\":\"12pt\"},\"id\":\"1760\",\"type\":\"Title\"},{\"attributes\":{\"fill_alpha\":{\"value\":0.2},\"fill_color\":{\"field\":\"labels\",\"transform\":{\"id\":\"1142\"}},\"hatch_alpha\":{\"value\":0.2},\"hatch_color\":{\"field\":\"labels\",\"transform\":{\"id\":\"1142\"}},\"height\":{\"value\":0.8},\"left\":{\"field\":\"bottom\"},\"line_alpha\":{\"value\":0.2},\"right\":{\"field\":\"top\"},\"y\":{\"field\":\"index\"}},\"id\":\"1148\",\"type\":\"HBar\"},{\"attributes\":{\"fill_color\":{\"field\":\"labels\",\"transform\":{\"id\":\"1142\"}},\"hatch_color\":{\"field\":\"labels\",\"transform\":{\"id\":\"1142\"}},\"height\":{\"value\":0.8},\"left\":{\"field\":\"bottom\"},\"right\":{\"field\":\"top\"},\"y\":{\"field\":\"index\"}},\"id\":\"1146\",\"type\":\"HBar\"},{\"attributes\":{},\"id\":\"1852\",\"type\":\"Selection\"},{\"attributes\":{\"coordinates\":null,\"group\":null,\"text\":\"Datatypes\",\"text_color\":\"black\",\"text_font_size\":\"12pt\"},\"id\":\"1114\",\"type\":\"Title\"},{\"attributes\":{\"axis\":{\"id\":\"1126\"},\"coordinates\":null,\"dimension\":1,\"grid_line_color\":null,\"group\":null,\"ticker\":null},\"id\":\"1128\",\"type\":\"Grid\"},{\"attributes\":{\"axis_label\":\"\",\"coordinates\":null,\"formatter\":{\"id\":\"1864\"},\"group\":null,\"major_label_policy\":{\"id\":\"1865\"},\"ticker\":{\"id\":\"1872\"}},\"id\":\"1830\",\"type\":\"LinearAxis\"},{\"attributes\":{},\"id\":\"1220\",\"type\":\"UnionRenderers\"},{\"attributes\":{\"callback\":null,\"renderers\":[{\"id\":\"1149\"}],\"tags\":[\"hv_created\"],\"tooltips\":[[\"index\",\"@{index}\"],[\"labels\",\"@{labels}\"],[\"value\",\"@{value}\"]]},\"id\":\"1112\",\"type\":\"HoverTool\"},{\"attributes\":{\"overlay\":{\"id\":\"1320\"}},\"id\":\"1318\",\"type\":\"BoxZoomTool\"},{\"attributes\":{\"axis\":{\"id\":\"1834\"},\"coordinates\":null,\"dimension\":1,\"grid_line_color\":null,\"group\":null,\"ticker\":null},\"id\":\"1836\",\"type\":\"Grid\"},{\"attributes\":{},\"id\":\"1127\",\"type\":\"CategoricalTicker\"},{\"attributes\":{\"fill_color\":{\"field\":\"labels\",\"transform\":{\"id\":\"1788\"}},\"hatch_color\":{\"field\":\"labels\",\"transform\":{\"id\":\"1788\"}},\"height\":{\"value\":0.8},\"left\":{\"field\":\"bottom\"},\"right\":{\"field\":\"top\"},\"y\":{\"field\":\"index\"}},\"id\":\"1792\",\"type\":\"HBar\"},{\"attributes\":{\"overlay\":{\"id\":\"1134\"}},\"id\":\"1132\",\"type\":\"BoxZoomTool\"},{\"attributes\":{\"coordinates\":null,\"group\":null,\"items\":[{\"id\":\"1348\"}],\"location\":[0,0]},\"id\":\"1347\",\"type\":\"Legend\"},{\"attributes\":{\"fill_alpha\":{\"value\":0.2},\"fill_color\":{\"field\":\"labels\",\"transform\":{\"id\":\"1788\"}},\"hatch_alpha\":{\"value\":0.2},\"hatch_color\":{\"field\":\"labels\",\"transform\":{\"id\":\"1788\"}},\"height\":{\"value\":0.8},\"left\":{\"field\":\"bottom\"},\"line_alpha\":{\"value\":0.2},\"right\":{\"field\":\"top\"},\"y\":{\"field\":\"index\"}},\"id\":\"1794\",\"type\":\"HBar\"},{\"attributes\":{},\"id\":\"1319\",\"type\":\"ResetTool\"},{\"attributes\":{},\"id\":\"1835\",\"type\":\"CategoricalTicker\"},{\"attributes\":{},\"id\":\"1315\",\"type\":\"SaveTool\"},{\"attributes\":{},\"id\":\"1777\",\"type\":\"WheelZoomTool\"},{\"attributes\":{},\"id\":\"1862\",\"type\":\"AllLabels\"},{\"attributes\":{},\"id\":\"1306\",\"type\":\"CategoricalScale\"},{\"attributes\":{\"coordinates\":null,\"group\":null,\"items\":[{\"id\":\"1162\"}],\"location\":[0,0]},\"id\":\"1161\",\"type\":\"Legend\"},{\"attributes\":{\"bottom_units\":\"screen\",\"coordinates\":null,\"fill_alpha\":0.5,\"fill_color\":\"lightgrey\",\"group\":null,\"left_units\":\"screen\",\"level\":\"overlay\",\"line_alpha\":1.0,\"line_color\":\"black\",\"line_dash\":[4,4],\"line_width\":2,\"right_units\":\"screen\",\"syncable\":false,\"top_units\":\"screen\"},\"id\":\"1780\",\"type\":\"BoxAnnotation\"},{\"attributes\":{},\"id\":\"1740\",\"type\":\"BasicTickFormatter\"},{\"attributes\":{},\"id\":\"1330\",\"type\":\"Selection\"},{\"attributes\":{\"below\":[{\"id\":\"1768\"}],\"center\":[{\"id\":\"1771\"},{\"id\":\"1774\"},{\"id\":\"1807\"}],\"height\":100,\"left\":[{\"id\":\"1772\"}],\"margin\":null,\"min_border_bottom\":10,\"min_border_left\":10,\"min_border_right\":10,\"min_border_top\":10,\"renderers\":[{\"id\":\"1795\"}],\"right\":[{\"id\":\"1807\"}],\"sizing_mode\":\"fixed\",\"title\":{\"id\":\"1760\"},\"toolbar\":{\"id\":\"1781\"},\"toolbar_location\":null,\"width\":700,\"x_range\":{\"id\":\"1110\"},\"x_scale\":{\"id\":\"1764\"},\"y_range\":{\"id\":\"1111\"},\"y_scale\":{\"id\":\"1766\"}},\"id\":\"1759\",\"subtype\":\"Figure\",\"type\":\"Plot\"},{\"attributes\":{\"factors\":[\"values\"],\"tags\":[[[\"index\",\"index\",null]]]},\"id\":\"1111\",\"type\":\"FactorRange\"},{\"attributes\":{\"fill_alpha\":{\"value\":0.1},\"fill_color\":{\"field\":\"labels\",\"transform\":{\"id\":\"1850\"}},\"hatch_alpha\":{\"value\":0.1},\"hatch_color\":{\"field\":\"labels\",\"transform\":{\"id\":\"1850\"}},\"height\":{\"value\":0.8},\"left\":{\"field\":\"bottom\"},\"line_alpha\":{\"value\":0.1},\"right\":{\"field\":\"top\"},\"y\":{\"field\":\"index\"}},\"id\":\"1855\",\"type\":\"HBar\"},{\"attributes\":{\"axis\":{\"id\":\"1312\"},\"coordinates\":null,\"dimension\":1,\"grid_line_color\":null,\"group\":null,\"ticker\":null},\"id\":\"1314\",\"type\":\"Grid\"},{\"attributes\":{\"bottom_units\":\"screen\",\"coordinates\":null,\"fill_alpha\":0.5,\"fill_color\":\"lightgrey\",\"group\":null,\"left_units\":\"screen\",\"level\":\"overlay\",\"line_alpha\":1.0,\"line_color\":\"black\",\"line_dash\":[4,4],\"line_width\":2,\"right_units\":\"screen\",\"syncable\":false,\"top_units\":\"screen\"},\"id\":\"1134\",\"type\":\"BoxAnnotation\"},{\"attributes\":{},\"id\":\"1144\",\"type\":\"Selection\"},{\"attributes\":{\"axis_label\":\"\",\"coordinates\":null,\"formatter\":{\"id\":\"1153\"},\"group\":null,\"major_label_policy\":{\"id\":\"1154\"},\"ticker\":{\"id\":\"1127\"}},\"id\":\"1126\",\"type\":\"CategoricalAxis\"},{\"attributes\":{\"axis\":{\"id\":\"1122\"},\"coordinates\":null,\"grid_line_color\":null,\"group\":null,\"ticker\":null},\"id\":\"1125\",\"type\":\"Grid\"},{\"attributes\":{},\"id\":\"1313\",\"type\":\"CategoricalTicker\"},{\"attributes\":{\"label\":{\"field\":\"labels\"},\"renderers\":[{\"id\":\"1919\"}]},\"id\":\"1932\",\"type\":\"LegendItem\"},{\"attributes\":{\"toolbar\":{\"id\":\"1984\"},\"toolbar_location\":\"above\"},\"id\":\"1985\",\"type\":\"ToolbarBox\"},{\"attributes\":{},\"id\":\"1340\",\"type\":\"AllLabels\"},{\"attributes\":{},\"id\":\"1773\",\"type\":\"CategoricalTicker\"},{\"attributes\":{\"fill_alpha\":{\"value\":1.0},\"fill_color\":{\"field\":\"labels\",\"transform\":{\"id\":\"1912\"}},\"hatch_alpha\":{\"value\":1.0},\"hatch_color\":{\"field\":\"labels\",\"transform\":{\"id\":\"1912\"}},\"hatch_scale\":{\"value\":12.0},\"hatch_weight\":{\"value\":1.0},\"height\":{\"value\":0.8},\"left\":{\"field\":\"bottom\"},\"line_alpha\":{\"value\":1.0},\"line_cap\":{\"value\":\"butt\"},\"line_color\":{\"value\":\"black\"},\"line_dash\":{\"value\":[]},\"line_dash_offset\":{\"value\":0},\"line_join\":{\"value\":\"bevel\"},\"line_width\":{\"value\":1},\"right\":{\"field\":\"top\"},\"y\":{\"field\":\"index\"}},\"id\":\"1933\",\"type\":\"HBar\"},{\"attributes\":{\"fill_alpha\":{\"value\":0.1},\"fill_color\":{\"field\":\"labels\",\"transform\":{\"id\":\"1328\"}},\"hatch_alpha\":{\"value\":0.1},\"hatch_color\":{\"field\":\"labels\",\"transform\":{\"id\":\"1328\"}},\"height\":{\"value\":0.8},\"left\":{\"field\":\"bottom\"},\"line_alpha\":{\"value\":0.1},\"right\":{\"field\":\"top\"},\"y\":{\"field\":\"index\"}},\"id\":\"1333\",\"type\":\"HBar\"},{\"attributes\":{},\"id\":\"1737\",\"type\":\"CategoricalTickFormatter\"},{\"attributes\":{\"ticks\":[0]},\"id\":\"1934\",\"type\":\"FixedTicker\"},{\"attributes\":{},\"id\":\"1131\",\"type\":\"WheelZoomTool\"},{\"attributes\":{},\"id\":\"1738\",\"type\":\"AllLabels\"},{\"attributes\":{\"style\":{\"white-space\":\"nowrap\"},\"text\":\"<span style=\\\"color:black;font-family:Arial;font-style:bold;font-weight:bold;font-size:12pt\\\">Data Shape:(174813, 25)</span>\",\"width\":450},\"id\":\"1403\",\"type\":\"Div\"},{\"attributes\":{},\"id\":\"1861\",\"type\":\"CategoricalTickFormatter\"},{\"attributes\":{\"margin\":[0,0,0,0],\"tabs\":[{\"id\":\"1693\"},{\"id\":\"2277\"}]},\"id\":\"1109\",\"type\":\"panel.models.tabs.Tabs\"},{\"attributes\":{\"client_comm_id\":\"b792bdf6b57e4474a5ff5f961b7892c1\",\"comm_id\":\"0b5653bdbe0143fe96595daaa4e4bbf6\",\"plot_id\":\"1109\"},\"id\":\"2494\",\"type\":\"panel.models.comm_manager.CommManager\"},{\"attributes\":{\"fill_alpha\":{\"value\":0.1},\"fill_color\":{\"field\":\"labels\",\"transform\":{\"id\":\"1142\"}},\"hatch_alpha\":{\"value\":0.1},\"hatch_color\":{\"field\":\"labels\",\"transform\":{\"id\":\"1142\"}},\"height\":{\"value\":0.8},\"left\":{\"field\":\"bottom\"},\"line_alpha\":{\"value\":0.1},\"right\":{\"field\":\"top\"},\"y\":{\"field\":\"index\"}},\"id\":\"1147\",\"type\":\"HBar\"},{\"attributes\":{\"child\":{\"id\":\"1404\"},\"name\":\"orders\",\"title\":\"orders\"},\"id\":\"1693\",\"type\":\"Panel\"},{\"attributes\":{\"axis\":{\"id\":\"1768\"},\"coordinates\":null,\"grid_line_color\":null,\"group\":null,\"ticker\":null},\"id\":\"1771\",\"type\":\"Grid\"},{\"attributes\":{},\"id\":\"1339\",\"type\":\"CategoricalTickFormatter\"},{\"attributes\":{\"factors\":[\"Unique\",\"Duplicate\"],\"palette\":[\"#30a2da\",\"#fc4f30\"]},\"id\":\"1850\",\"type\":\"CategoricalColorMapper\"},{\"attributes\":{},\"id\":\"1764\",\"type\":\"LinearScale\"},{\"attributes\":{\"coordinates\":null,\"group\":null,\"items\":[{\"id\":\"1808\"}],\"location\":[0,0]},\"id\":\"1807\",\"type\":\"Legend\"},{\"attributes\":{\"factors\":[\"Unique\",\"Duplicate\"],\"palette\":[\"#30a2da\",\"#fc4f30\"]},\"id\":\"1328\",\"type\":\"CategoricalColorMapper\"},{\"attributes\":{},\"id\":\"1779\",\"type\":\"ResetTool\"},{\"attributes\":{},\"id\":\"1865\",\"type\":\"AllLabels\"},{\"attributes\":{},\"id\":\"1741\",\"type\":\"AllLabels\"},{\"attributes\":{},\"id\":\"1775\",\"type\":\"SaveTool\"},{\"attributes\":{},\"id\":\"1864\",\"type\":\"BasicTickFormatter\"},{\"attributes\":{\"label\":{\"field\":\"labels\"},\"renderers\":[{\"id\":\"1211\"}]},\"id\":\"1224\",\"type\":\"LegendItem\"},{\"attributes\":{},\"id\":\"1154\",\"type\":\"AllLabels\"},{\"attributes\":{},\"id\":\"1790\",\"type\":\"Selection\"},{\"attributes\":{\"fill_alpha\":{\"value\":1.0},\"fill_color\":{\"field\":\"labels\",\"transform\":{\"id\":\"1204\"}},\"hatch_alpha\":{\"value\":1.0},\"hatch_color\":{\"field\":\"labels\",\"transform\":{\"id\":\"1204\"}},\"hatch_scale\":{\"value\":12.0},\"hatch_weight\":{\"value\":1.0},\"height\":{\"value\":0.8},\"left\":{\"field\":\"bottom\"},\"line_alpha\":{\"value\":1.0},\"line_cap\":{\"value\":\"butt\"},\"line_color\":{\"value\":\"black\"},\"line_dash\":{\"value\":[]},\"line_dash_offset\":{\"value\":0},\"line_join\":{\"value\":\"bevel\"},\"line_width\":{\"value\":1},\"right\":{\"field\":\"top\"},\"y\":{\"field\":\"index\"}},\"id\":\"1225\",\"type\":\"HBar\"},{\"attributes\":{},\"id\":\"1343\",\"type\":\"AllLabels\"},{\"attributes\":{},\"id\":\"1714\",\"type\":\"PanTool\"},{\"attributes\":{\"axis\":{\"id\":\"1772\"},\"coordinates\":null,\"dimension\":1,\"grid_line_color\":null,\"group\":null,\"ticker\":null},\"id\":\"1774\",\"type\":\"Grid\"},{\"attributes\":{},\"id\":\"1342\",\"type\":\"BasicTickFormatter\"},{\"attributes\":{\"source\":{\"id\":\"1851\"}},\"id\":\"1858\",\"type\":\"CDSView\"},{\"attributes\":{\"style\":{\"white-space\":\"nowrap\"},\"text\":\"<span style=\\\"color:black;font-family:Arial;font-style:bold;font-weight:bold;font-size:12pt\\\">Data Shape:(13544, 9)</span>\",\"width\":450},\"id\":\"1987\",\"type\":\"Div\"},{\"attributes\":{\"ticks\":[0]},\"id\":\"1226\",\"type\":\"FixedTicker\"},{\"attributes\":{},\"id\":\"1800\",\"type\":\"AllLabels\"},{\"attributes\":{\"tools\":[{\"id\":\"1820\"},{\"id\":\"1837\"},{\"id\":\"1838\"},{\"id\":\"1839\"},{\"id\":\"1840\"},{\"id\":\"1841\"}]},\"id\":\"1843\",\"type\":\"Toolbar\"},{\"attributes\":{\"source\":{\"id\":\"1329\"}},\"id\":\"1336\",\"type\":\"CDSView\"},{\"attributes\":{\"children\":[{\"id\":\"1987\"},{\"id\":\"1986\"}]},\"id\":\"1988\",\"type\":\"Column\"},{\"attributes\":{\"coordinates\":null,\"data_source\":{\"id\":\"1851\"},\"glyph\":{\"id\":\"1854\"},\"group\":null,\"hover_glyph\":null,\"muted_glyph\":{\"id\":\"1856\"},\"nonselection_glyph\":{\"id\":\"1855\"},\"selection_glyph\":{\"id\":\"1871\"},\"view\":{\"id\":\"1858\"}},\"id\":\"1857\",\"type\":\"GlyphRenderer\"},{\"attributes\":{\"fill_alpha\":{\"value\":0.1},\"fill_color\":{\"field\":\"labels\",\"transform\":{\"id\":\"1788\"}},\"hatch_alpha\":{\"value\":0.1},\"hatch_color\":{\"field\":\"labels\",\"transform\":{\"id\":\"1788\"}},\"height\":{\"value\":0.8},\"left\":{\"field\":\"bottom\"},\"line_alpha\":{\"value\":0.1},\"right\":{\"field\":\"top\"},\"y\":{\"field\":\"index\"}},\"id\":\"1793\",\"type\":\"HBar\"},{\"attributes\":{\"coordinates\":null,\"data_source\":{\"id\":\"1143\"},\"glyph\":{\"id\":\"1146\"},\"group\":null,\"hover_glyph\":null,\"muted_glyph\":{\"id\":\"1148\"},\"nonselection_glyph\":{\"id\":\"1147\"},\"selection_glyph\":{\"id\":\"1163\"},\"view\":{\"id\":\"1150\"}},\"id\":\"1149\",\"type\":\"GlyphRenderer\"},{\"attributes\":{\"factors\":[\"Date\",\"Numeric\",\"Others\"],\"palette\":[\"#30a2da\",\"#fc4f30\",\"#e5ae38\"]},\"id\":\"1142\",\"type\":\"CategoricalColorMapper\"},{\"attributes\":{\"callback\":null,\"renderers\":[{\"id\":\"1273\"}],\"tags\":[\"hv_created\"],\"tooltips\":[[\"index\",\"@{index}\"],[\"labels\",\"@{labels}\"],[\"value\",\"@{value}\"]]},\"id\":\"1236\",\"type\":\"HoverTool\"},{\"attributes\":{\"tools\":[{\"id\":\"1298\"},{\"id\":\"1315\"},{\"id\":\"1316\"},{\"id\":\"1317\"},{\"id\":\"1318\"},{\"id\":\"1319\"}]},\"id\":\"1321\",\"type\":\"Toolbar\"},{\"attributes\":{},\"id\":\"1254\",\"type\":\"PanTool\"},{\"attributes\":{\"children\":[[{\"id\":\"1113\"},0,0],[{\"id\":\"1175\"},1,0],[{\"id\":\"1237\"},2,0],[{\"id\":\"1299\"},3,0]]},\"id\":\"1399\",\"type\":\"GridBox\"},{\"attributes\":{},\"id\":\"1803\",\"type\":\"AllLabels\"},{\"attributes\":{\"axis_label\":\"\",\"coordinates\":null,\"formatter\":{\"id\":\"1277\"},\"group\":null,\"major_label_policy\":{\"id\":\"1278\"},\"ticker\":{\"id\":\"1251\"}},\"id\":\"1250\",\"type\":\"CategoricalAxis\"},{\"attributes\":{},\"id\":\"1242\",\"type\":\"LinearScale\"},{\"attributes\":{},\"id\":\"1866\",\"type\":\"UnionRenderers\"},{\"attributes\":{\"coordinates\":null,\"data_source\":{\"id\":\"1329\"},\"glyph\":{\"id\":\"1332\"},\"group\":null,\"hover_glyph\":null,\"muted_glyph\":{\"id\":\"1334\"},\"nonselection_glyph\":{\"id\":\"1333\"},\"selection_glyph\":{\"id\":\"1349\"},\"view\":{\"id\":\"1336\"}},\"id\":\"1335\",\"type\":\"GlyphRenderer\"},{\"attributes\":{\"axis_label\":\"\",\"coordinates\":null,\"formatter\":{\"id\":\"1280\"},\"group\":null,\"major_label_policy\":{\"id\":\"1281\"},\"ticker\":{\"id\":\"1288\"}},\"id\":\"1246\",\"type\":\"LinearAxis\"},{\"attributes\":{\"coordinates\":null,\"group\":null,\"text\":\"Duplicate Values\",\"text_color\":\"black\",\"text_font_size\":\"12pt\"},\"id\":\"1238\",\"type\":\"Title\"},{\"attributes\":{\"child\":{\"id\":\"1988\"},\"name\":\"product\",\"title\":\"product\"},\"id\":\"2277\",\"type\":\"Panel\"},{\"attributes\":{\"factors\":[\"Available\",\"Missing\"],\"palette\":[\"#30a2da\",\"#fc4f30\"]},\"id\":\"1788\",\"type\":\"CategoricalColorMapper\"},{\"attributes\":{\"overlay\":{\"id\":\"1718\"}},\"id\":\"1716\",\"type\":\"BoxZoomTool\"},{\"attributes\":{\"source\":{\"id\":\"1143\"}},\"id\":\"1150\",\"type\":\"CDSView\"},{\"attributes\":{\"children\":[{\"id\":\"1985\"},{\"id\":\"1983\"}]},\"id\":\"1986\",\"type\":\"Column\"},{\"attributes\":{\"tools\":[{\"id\":\"1112\"},{\"id\":\"1129\"},{\"id\":\"1130\"},{\"id\":\"1131\"},{\"id\":\"1132\"},{\"id\":\"1133\"}]},\"id\":\"1135\",\"type\":\"Toolbar\"},{\"attributes\":{\"fill_color\":{\"field\":\"labels\",\"transform\":{\"id\":\"1266\"}},\"hatch_color\":{\"field\":\"labels\",\"transform\":{\"id\":\"1266\"}},\"height\":{\"value\":0.8},\"left\":{\"field\":\"bottom\"},\"right\":{\"field\":\"top\"},\"y\":{\"field\":\"index\"}},\"id\":\"1270\",\"type\":\"HBar\"},{\"attributes\":{},\"id\":\"1255\",\"type\":\"WheelZoomTool\"},{\"attributes\":{},\"id\":\"1344\",\"type\":\"UnionRenderers\"},{\"attributes\":{},\"id\":\"1802\",\"type\":\"BasicTickFormatter\"},{\"attributes\":{\"bottom_units\":\"screen\",\"coordinates\":null,\"fill_alpha\":0.5,\"fill_color\":\"lightgrey\",\"group\":null,\"left_units\":\"screen\",\"level\":\"overlay\",\"line_alpha\":1.0,\"line_color\":\"black\",\"line_dash\":[4,4],\"line_width\":2,\"right_units\":\"screen\",\"syncable\":false,\"top_units\":\"screen\"},\"id\":\"1258\",\"type\":\"BoxAnnotation\"},{\"attributes\":{},\"id\":\"1156\",\"type\":\"BasicTickFormatter\"},{\"attributes\":{\"data\":{\"bottom\":{\"__ndarray__\":\"AAAAAAAAAAAXsm4C3/9YQA==\",\"dtype\":\"float64\",\"order\":\"little\",\"shape\":[2]},\"index\":[\"values\",\"values\"],\"labels\":[\"Available\",\"Missing\"],\"top\":{\"__ndarray__\":\"F7JuAt//WEAAAAAAAABZQA==\",\"dtype\":\"float64\",\"order\":\"little\",\"shape\":[2]},\"value\":{\"__ndarray__\":\"F7JuAt//WEC1sPSmyH5gPw==\",\"dtype\":\"float64\",\"order\":\"little\",\"shape\":[2]}},\"selected\":{\"id\":\"1206\"},\"selection_policy\":{\"id\":\"1220\"}},\"id\":\"1205\",\"type\":\"ColumnDataSource\"},{\"attributes\":{},\"id\":\"1157\",\"type\":\"AllLabels\"},{\"attributes\":{},\"id\":\"1268\",\"type\":\"Selection\"},{\"attributes\":{\"overlay\":{\"id\":\"1258\"}},\"id\":\"1256\",\"type\":\"BoxZoomTool\"},{\"attributes\":{},\"id\":\"1804\",\"type\":\"UnionRenderers\"},{\"attributes\":{},\"id\":\"1251\",\"type\":\"CategoricalTicker\"},{\"attributes\":{\"coordinates\":null,\"data_source\":{\"id\":\"1267\"},\"glyph\":{\"id\":\"1270\"},\"group\":null,\"hover_glyph\":null,\"muted_glyph\":{\"id\":\"1272\"},\"nonselection_glyph\":{\"id\":\"1271\"},\"selection_glyph\":{\"id\":\"1287\"},\"view\":{\"id\":\"1274\"}},\"id\":\"1273\",\"type\":\"GlyphRenderer\"},{\"attributes\":{\"children\":[{\"id\":\"1401\"},{\"id\":\"1399\"}]},\"id\":\"1402\",\"type\":\"Column\"},{\"attributes\":{\"axis\":{\"id\":\"1246\"},\"coordinates\":null,\"grid_line_color\":null,\"group\":null,\"ticker\":null},\"id\":\"1249\",\"type\":\"Grid\"},{\"attributes\":{},\"id\":\"1158\",\"type\":\"UnionRenderers\"},{\"attributes\":{\"below\":[{\"id\":\"1246\"}],\"center\":[{\"id\":\"1249\"},{\"id\":\"1252\"},{\"id\":\"1285\"}],\"height\":100,\"left\":[{\"id\":\"1250\"}],\"margin\":null,\"min_border_bottom\":10,\"min_border_left\":10,\"min_border_right\":10,\"min_border_top\":10,\"renderers\":[{\"id\":\"1273\"}],\"right\":[{\"id\":\"1285\"}],\"sizing_mode\":\"fixed\",\"title\":{\"id\":\"1238\"},\"toolbar\":{\"id\":\"1259\"},\"toolbar_location\":null,\"width\":700,\"x_range\":{\"id\":\"1110\"},\"x_scale\":{\"id\":\"1242\"},\"y_range\":{\"id\":\"1111\"},\"y_scale\":{\"id\":\"1244\"}},\"id\":\"1237\",\"subtype\":\"Figure\",\"type\":\"Plot\"},{\"attributes\":{},\"id\":\"1257\",\"type\":\"ResetTool\"},{\"attributes\":{\"fill_alpha\":{\"value\":0.2},\"fill_color\":{\"field\":\"labels\",\"transform\":{\"id\":\"1266\"}},\"hatch_alpha\":{\"value\":0.2},\"hatch_color\":{\"field\":\"labels\",\"transform\":{\"id\":\"1266\"}},\"height\":{\"value\":0.8},\"left\":{\"field\":\"bottom\"},\"line_alpha\":{\"value\":0.2},\"right\":{\"field\":\"top\"},\"y\":{\"field\":\"index\"}},\"id\":\"1272\",\"type\":\"HBar\"},{\"attributes\":{\"axis\":{\"id\":\"1250\"},\"coordinates\":null,\"dimension\":1,\"grid_line_color\":null,\"group\":null,\"ticker\":null},\"id\":\"1252\",\"type\":\"Grid\"},{\"attributes\":{},\"id\":\"1742\",\"type\":\"UnionRenderers\"},{\"attributes\":{\"data\":{\"bottom\":{\"__ndarray__\":\"AAAAAAAAAAAAAAAAAABZQA==\",\"dtype\":\"float64\",\"order\":\"little\",\"shape\":[2]},\"index\":[\"values\",\"values\"],\"labels\":[\"Unique\",\"Duplicate\"],\"top\":{\"__ndarray__\":\"AAAAAAAAWUAAAAAAAABZQA==\",\"dtype\":\"float64\",\"order\":\"little\",\"shape\":[2]},\"value\":{\"__ndarray__\":\"AAAAAAAAWUAAAAAAAAAAAA==\",\"dtype\":\"float64\",\"order\":\"little\",\"shape\":[2]}},\"selected\":{\"id\":\"1852\"},\"selection_policy\":{\"id\":\"1866\"}},\"id\":\"1851\",\"type\":\"ColumnDataSource\"},{\"attributes\":{\"data\":{\"bottom\":{\"__ndarray__\":\"AAAAAAAAAABxuvsohv9YQA==\",\"dtype\":\"float64\",\"order\":\"little\",\"shape\":[2]},\"index\":[\"values\",\"values\"],\"labels\":[\"Unique\",\"Duplicate\"],\"top\":{\"__ndarray__\":\"cbr7KIb/WEAAAAAAAABZQA==\",\"dtype\":\"float64\",\"order\":\"little\",\"shape\":[2]},\"value\":{\"__ndarray__\":\"cbr7KIb/WEDE12MRwXV+Pw==\",\"dtype\":\"float64\",\"order\":\"little\",\"shape\":[2]}},\"selected\":{\"id\":\"1268\"},\"selection_policy\":{\"id\":\"1282\"}},\"id\":\"1267\",\"type\":\"ColumnDataSource\"},{\"attributes\":{\"label\":{\"field\":\"labels\"},\"renderers\":[{\"id\":\"1795\"}]},\"id\":\"1808\",\"type\":\"LegendItem\"},{\"attributes\":{\"label\":{\"field\":\"labels\"},\"renderers\":[{\"id\":\"1273\"}]},\"id\":\"1286\",\"type\":\"LegendItem\"},{\"attributes\":{\"label\":{\"field\":\"labels\"},\"renderers\":[{\"id\":\"1733\"}]},\"id\":\"1746\",\"type\":\"LegendItem\"},{\"attributes\":{\"tools\":[{\"id\":\"1236\"},{\"id\":\"1253\"},{\"id\":\"1254\"},{\"id\":\"1255\"},{\"id\":\"1256\"},{\"id\":\"1257\"}]},\"id\":\"1259\",\"type\":\"Toolbar\"},{\"attributes\":{\"fill_alpha\":{\"value\":1.0},\"fill_color\":{\"field\":\"labels\",\"transform\":{\"id\":\"1266\"}},\"hatch_alpha\":{\"value\":1.0},\"hatch_color\":{\"field\":\"labels\",\"transform\":{\"id\":\"1266\"}},\"hatch_scale\":{\"value\":12.0},\"hatch_weight\":{\"value\":1.0},\"height\":{\"value\":0.8},\"left\":{\"field\":\"bottom\"},\"line_alpha\":{\"value\":1.0},\"line_cap\":{\"value\":\"butt\"},\"line_color\":{\"value\":\"black\"},\"line_dash\":{\"value\":[]},\"line_dash_offset\":{\"value\":0},\"line_join\":{\"value\":\"bevel\"},\"line_width\":{\"value\":1},\"right\":{\"field\":\"top\"},\"y\":{\"field\":\"index\"}},\"id\":\"1287\",\"type\":\"HBar\"},{\"attributes\":{\"label\":{\"field\":\"labels\"},\"renderers\":[{\"id\":\"1857\"}]},\"id\":\"1870\",\"type\":\"LegendItem\"},{\"attributes\":{},\"id\":\"1278\",\"type\":\"AllLabels\"},{\"attributes\":{\"fill_alpha\":{\"value\":1.0},\"fill_color\":{\"field\":\"labels\",\"transform\":{\"id\":\"1850\"}},\"hatch_alpha\":{\"value\":1.0},\"hatch_color\":{\"field\":\"labels\",\"transform\":{\"id\":\"1850\"}},\"hatch_scale\":{\"value\":12.0},\"hatch_weight\":{\"value\":1.0},\"height\":{\"value\":0.8},\"left\":{\"field\":\"bottom\"},\"line_alpha\":{\"value\":1.0},\"line_cap\":{\"value\":\"butt\"},\"line_color\":{\"value\":\"black\"},\"line_dash\":{\"value\":[]},\"line_dash_offset\":{\"value\":0},\"line_join\":{\"value\":\"bevel\"},\"line_width\":{\"value\":1},\"right\":{\"field\":\"top\"},\"y\":{\"field\":\"index\"}},\"id\":\"1871\",\"type\":\"HBar\"},{\"attributes\":{\"children\":[{\"id\":\"1403\"},{\"id\":\"1402\"}]},\"id\":\"1404\",\"type\":\"Column\"},{\"attributes\":{\"coordinates\":null,\"group\":null,\"items\":[{\"id\":\"1286\"}],\"location\":[0,0]},\"id\":\"1285\",\"type\":\"Legend\"},{\"attributes\":{\"ticks\":[0]},\"id\":\"1872\",\"type\":\"FixedTicker\"},{\"attributes\":{\"coordinates\":null,\"group\":null,\"text\":\"Duplicate Columns\",\"text_color\":\"black\",\"text_font_size\":\"12pt\"},\"id\":\"1884\",\"type\":\"Title\"},{\"attributes\":{\"source\":{\"id\":\"1267\"}},\"id\":\"1274\",\"type\":\"CDSView\"},{\"attributes\":{\"fill_alpha\":{\"value\":0.1},\"fill_color\":{\"field\":\"labels\",\"transform\":{\"id\":\"1266\"}},\"hatch_alpha\":{\"value\":0.1},\"hatch_color\":{\"field\":\"labels\",\"transform\":{\"id\":\"1266\"}},\"height\":{\"value\":0.8},\"left\":{\"field\":\"bottom\"},\"line_alpha\":{\"value\":0.1},\"right\":{\"field\":\"top\"},\"y\":{\"field\":\"index\"}},\"id\":\"1271\",\"type\":\"HBar\"},{\"attributes\":{\"label\":{\"field\":\"labels\"},\"renderers\":[{\"id\":\"1335\"}]},\"id\":\"1348\",\"type\":\"LegendItem\"},{\"attributes\":{\"fill_alpha\":{\"value\":1.0},\"fill_color\":{\"field\":\"labels\",\"transform\":{\"id\":\"1328\"}},\"hatch_alpha\":{\"value\":1.0},\"hatch_color\":{\"field\":\"labels\",\"transform\":{\"id\":\"1328\"}},\"hatch_scale\":{\"value\":12.0},\"hatch_weight\":{\"value\":1.0},\"height\":{\"value\":0.8},\"left\":{\"field\":\"bottom\"},\"line_alpha\":{\"value\":1.0},\"line_cap\":{\"value\":\"butt\"},\"line_color\":{\"value\":\"black\"},\"line_dash\":{\"value\":[]},\"line_dash_offset\":{\"value\":0},\"line_join\":{\"value\":\"bevel\"},\"line_width\":{\"value\":1},\"right\":{\"field\":\"top\"},\"y\":{\"field\":\"index\"}},\"id\":\"1349\",\"type\":\"HBar\"},{\"attributes\":{\"source\":{\"id\":\"1727\"}},\"id\":\"1734\",\"type\":\"CDSView\"},{\"attributes\":{\"ticks\":[0]},\"id\":\"1350\",\"type\":\"FixedTicker\"},{\"attributes\":{\"factors\":[\"Unique\",\"Duplicate\"],\"palette\":[\"#30a2da\",\"#fc4f30\"]},\"id\":\"1266\",\"type\":\"CategoricalColorMapper\"},{\"attributes\":{},\"id\":\"1888\",\"type\":\"LinearScale\"},{\"attributes\":{\"data\":{\"bottom\":{\"__ndarray__\":\"AAAAAAAAAAAAAAAAAABZQA==\",\"dtype\":\"float64\",\"order\":\"little\",\"shape\":[2]},\"index\":[\"values\",\"values\"],\"labels\":[\"Unique\",\"Duplicate\"],\"top\":{\"__ndarray__\":\"AAAAAAAAWUAAAAAAAABZQA==\",\"dtype\":\"float64\",\"order\":\"little\",\"shape\":[2]},\"value\":{\"__ndarray__\":\"AAAAAAAAWUAAAAAAAAAAAA==\",\"dtype\":\"float64\",\"order\":\"little\",\"shape\":[2]}},\"selected\":{\"id\":\"1914\"},\"selection_policy\":{\"id\":\"1928\"}},\"id\":\"1913\",\"type\":\"ColumnDataSource\"},{\"attributes\":{\"label\":{\"field\":\"labels\"},\"renderers\":[{\"id\":\"1149\"}]},\"id\":\"1162\",\"type\":\"LegendItem\"},{\"attributes\":{},\"id\":\"1901\",\"type\":\"WheelZoomTool\"},{\"attributes\":{\"tools\":[{\"id\":\"1882\"},{\"id\":\"1899\"},{\"id\":\"1900\"},{\"id\":\"1901\"},{\"id\":\"1902\"},{\"id\":\"1903\"}]},\"id\":\"1905\",\"type\":\"Toolbar\"},{\"attributes\":{\"fill_alpha\":{\"value\":1.0},\"fill_color\":{\"field\":\"labels\",\"transform\":{\"id\":\"1142\"}},\"hatch_alpha\":{\"value\":1.0},\"hatch_color\":{\"field\":\"labels\",\"transform\":{\"id\":\"1142\"}},\"hatch_scale\":{\"value\":12.0},\"hatch_weight\":{\"value\":1.0},\"height\":{\"value\":0.8},\"left\":{\"field\":\"bottom\"},\"line_alpha\":{\"value\":1.0},\"line_cap\":{\"value\":\"butt\"},\"line_color\":{\"value\":\"black\"},\"line_dash\":{\"value\":[]},\"line_dash_offset\":{\"value\":0},\"line_join\":{\"value\":\"bevel\"},\"line_width\":{\"value\":1},\"right\":{\"field\":\"top\"},\"y\":{\"field\":\"index\"}},\"id\":\"1163\",\"type\":\"HBar\"},{\"attributes\":{},\"id\":\"1900\",\"type\":\"PanTool\"},{\"attributes\":{\"axis\":{\"id\":\"1892\"},\"coordinates\":null,\"grid_line_color\":null,\"group\":null,\"ticker\":null},\"id\":\"1895\",\"type\":\"Grid\"},{\"attributes\":{\"ticks\":[0]},\"id\":\"1164\",\"type\":\"FixedTicker\"},{\"attributes\":{\"below\":[{\"id\":\"1892\"}],\"center\":[{\"id\":\"1895\"},{\"id\":\"1898\"},{\"id\":\"1931\"}],\"height\":100,\"left\":[{\"id\":\"1896\"}],\"margin\":null,\"min_border_bottom\":10,\"min_border_left\":10,\"min_border_right\":10,\"min_border_top\":10,\"renderers\":[{\"id\":\"1919\"}],\"right\":[{\"id\":\"1931\"}],\"sizing_mode\":\"fixed\",\"title\":{\"id\":\"1884\"},\"toolbar\":{\"id\":\"1905\"},\"toolbar_location\":null,\"width\":700,\"x_range\":{\"id\":\"1110\"},\"x_scale\":{\"id\":\"1888\"},\"y_range\":{\"id\":\"1111\"},\"y_scale\":{\"id\":\"1890\"}},\"id\":\"1883\",\"subtype\":\"Figure\",\"type\":\"Plot\"},{\"attributes\":{\"tools\":[{\"id\":\"1696\"},{\"id\":\"1713\"},{\"id\":\"1714\"},{\"id\":\"1715\"},{\"id\":\"1716\"},{\"id\":\"1717\"}]},\"id\":\"1719\",\"type\":\"Toolbar\"},{\"attributes\":{\"fill_color\":{\"field\":\"labels\",\"transform\":{\"id\":\"1726\"}},\"hatch_color\":{\"field\":\"labels\",\"transform\":{\"id\":\"1726\"}},\"height\":{\"value\":0.8},\"left\":{\"field\":\"bottom\"},\"right\":{\"field\":\"top\"},\"y\":{\"field\":\"index\"}},\"id\":\"1730\",\"type\":\"HBar\"},{\"attributes\":{},\"id\":\"1897\",\"type\":\"CategoricalTicker\"},{\"attributes\":{\"axis_label\":\"\",\"coordinates\":null,\"formatter\":{\"id\":\"1926\"},\"group\":null,\"major_label_policy\":{\"id\":\"1927\"},\"ticker\":{\"id\":\"1934\"}},\"id\":\"1892\",\"type\":\"LinearAxis\"},{\"attributes\":{\"data\":{\"bottom\":{\"__ndarray__\":\"AAAAAAAAAAAAAAAAAABZQA==\",\"dtype\":\"float64\",\"order\":\"little\",\"shape\":[2]},\"index\":[\"values\",\"values\"],\"labels\":[\"Unique\",\"Duplicate\"],\"top\":{\"__ndarray__\":\"AAAAAAAAWUAAAAAAAABZQA==\",\"dtype\":\"float64\",\"order\":\"little\",\"shape\":[2]},\"value\":{\"__ndarray__\":\"AAAAAAAAWUAAAAAAAAAAAA==\",\"dtype\":\"float64\",\"order\":\"little\",\"shape\":[2]}},\"selected\":{\"id\":\"1330\"},\"selection_policy\":{\"id\":\"1344\"}},\"id\":\"1329\",\"type\":\"ColumnDataSource\"},{\"attributes\":{\"data\":{\"bottom\":{\"__ndarray__\":\"AAAAAAAAAAAAAAAAAAAAAA==\",\"dtype\":\"float64\",\"order\":\"little\",\"shape\":[2]},\"index\":[\"values\",\"values\"],\"labels\":[\"Numeric\",\"Others\"],\"top\":{\"__ndarray__\":\"AAAAAAAAAAAAAAAAAABZQA==\",\"dtype\":\"float64\",\"order\":\"little\",\"shape\":[2]},\"value\":{\"__ndarray__\":\"AAAAAAAAAAAAAAAAAABZQA==\",\"dtype\":\"float64\",\"order\":\"little\",\"shape\":[2]}},\"selected\":{\"id\":\"1728\"},\"selection_policy\":{\"id\":\"1742\"}},\"id\":\"1727\",\"type\":\"ColumnDataSource\"},{\"attributes\":{\"bottom_units\":\"screen\",\"coordinates\":null,\"fill_alpha\":0.5,\"fill_color\":\"lightgrey\",\"group\":null,\"left_units\":\"screen\",\"level\":\"overlay\",\"line_alpha\":1.0,\"line_color\":\"black\",\"line_dash\":[4,4],\"line_width\":2,\"right_units\":\"screen\",\"syncable\":false,\"top_units\":\"screen\"},\"id\":\"1904\",\"type\":\"BoxAnnotation\"},{\"attributes\":{\"fill_alpha\":{\"value\":0.1},\"fill_color\":{\"field\":\"labels\",\"transform\":{\"id\":\"1726\"}},\"hatch_alpha\":{\"value\":0.1},\"hatch_color\":{\"field\":\"labels\",\"transform\":{\"id\":\"1726\"}},\"height\":{\"value\":0.8},\"left\":{\"field\":\"bottom\"},\"line_alpha\":{\"value\":0.1},\"right\":{\"field\":\"top\"},\"y\":{\"field\":\"index\"}},\"id\":\"1731\",\"type\":\"HBar\"},{\"attributes\":{},\"id\":\"1903\",\"type\":\"ResetTool\"},{\"attributes\":{\"axis\":{\"id\":\"1896\"},\"coordinates\":null,\"dimension\":1,\"grid_line_color\":null,\"group\":null,\"ticker\":null},\"id\":\"1898\",\"type\":\"Grid\"},{\"attributes\":{},\"id\":\"1890\",\"type\":\"CategoricalScale\"},{\"attributes\":{\"overlay\":{\"id\":\"1904\"}},\"id\":\"1902\",\"type\":\"BoxZoomTool\"},{\"attributes\":{\"coordinates\":null,\"group\":null,\"items\":[{\"id\":\"1746\"}],\"location\":[0,0]},\"id\":\"1745\",\"type\":\"Legend\"},{\"attributes\":{\"callback\":null,\"renderers\":[{\"id\":\"1919\"}],\"tags\":[\"hv_created\"],\"tooltips\":[[\"index\",\"@{index}\"],[\"labels\",\"@{labels}\"],[\"value\",\"@{value}\"]]},\"id\":\"1882\",\"type\":\"HoverTool\"}],\"root_ids\":[\"1109\",\"2494\"]},\"title\":\"Bokeh Application\",\"version\":\"2.4.3\"}};\n",
       "    var render_items = [{\"docid\":\"992b8192-7f36-4d74-bd2f-615838ed5939\",\"root_ids\":[\"1109\"],\"roots\":{\"1109\":\"cb851c9d-50ab-47a5-8128-3378eb237b4c\"}}];\n",
       "    root.Bokeh.embed.embed_items_notebook(docs_json, render_items);\n",
       "  }\n",
       "  if (root.Bokeh !== undefined && root.Bokeh.Panel !== undefined) {\n",
       "    embed_document(root);\n",
       "  } else {\n",
       "    var attempts = 0;\n",
       "    var timer = setInterval(function(root) {\n",
       "      if (root.Bokeh !== undefined && root.Bokeh.Panel !== undefined) {\n",
       "        clearInterval(timer);\n",
       "        embed_document(root);\n",
       "      } else if (document.readyState == \"complete\") {\n",
       "        attempts++;\n",
       "        if (attempts > 200) {\n",
       "          clearInterval(timer);\n",
       "          console.log(\"Bokeh: ERROR: Unable to run BokehJS code because BokehJS library is missing\");\n",
       "        }\n",
       "      }\n",
       "    }, 25, root)\n",
       "  }\n",
       "})(window);</script>"
      ],
      "text/plain": [
       "Tabs\n",
       "    [0] HoloViews(Layout, name='orders')\n",
       "    [1] HoloViews(Layout, name='product')"
      ]
     },
     "execution_count": 37,
     "metadata": {
      "application/vnd.holoviews_exec.v0+json": {
       "id": "1109"
      }
     },
     "output_type": "execute_result"
    }
   ],
   "source": [
    "sum1, plot1 = eda.get_data_health_summary(orders_df, return_plot=True)\n",
    "sum2, plot2 = eda.get_data_health_summary(prod_df, return_plot=True)\n",
    "\n",
    "display_as_tabs([('orders', plot1), ('product', plot2)])"
   ]
  },
  {
   "attachments": {},
   "cell_type": "markdown",
   "metadata": {},
   "source": [
    "**Dev NOTES**\n",
    "\n",
    "<details>\n",
    "1. Datatypes : We have both numeric and other types. The bulk of them seem to be numeric. `Numeric` is defined to be one of [float|int|date] and the rest are categorized as `Others`. A column is assumed to have `date` values if it has the string `date` in the column name.\n",
    "\n",
    "2. The missing value plot seems to indicate missing values are not present but we do have them. \n",
    "\n",
    "3. We are looking for duplicate observations (rows in the data). The plot shows the % of rows that are an exact replica of another row (using `df.duplicated`)\n",
    "\n",
    "4. We are looking for duplicate features (columns in the data).\n",
    "\n",
    "</details>"
   ]
  },
  {
   "attachments": {},
   "cell_type": "markdown",
   "metadata": {},
   "source": [
    "### Missing Values summary\n",
    "\n",
    "This provides an overall view focussing on amount of missing values in the dataset.\n",
    "\n",
    "**Watch out for:**\n",
    "* A few columns have significant number of missing values \n",
    "* Most columns have significant number of missing values\n"
   ]
  },
  {
   "cell_type": "code",
   "execution_count": 38,
   "metadata": {},
   "outputs": [
    {
     "data": {},
     "metadata": {},
     "output_type": "display_data"
    },
    {
     "data": {},
     "metadata": {},
     "output_type": "display_data"
    },
    {
     "data": {
      "application/vnd.holoviews_exec.v0+json": "",
      "text/html": [
       "<div id='2855'>\n",
       "  <div class=\"bk-root\" id=\"27778ce9-6f87-45b5-8a8f-d46362ba4106\" data-root-id=\"2855\"></div>\n",
       "</div>\n",
       "<script type=\"application/javascript\">(function(root) {\n",
       "  function embed_document(root) {\n",
       "    var docs_json = {\"fb85ffcc-1c1a-4437-98e9-3f56f9326fbf\":{\"defs\":[{\"extends\":null,\"module\":null,\"name\":\"ReactiveHTML1\",\"overrides\":[],\"properties\":[]},{\"extends\":null,\"module\":null,\"name\":\"FlexBox1\",\"overrides\":[],\"properties\":[{\"default\":\"flex-start\",\"kind\":null,\"name\":\"align_content\"},{\"default\":\"flex-start\",\"kind\":null,\"name\":\"align_items\"},{\"default\":\"row\",\"kind\":null,\"name\":\"flex_direction\"},{\"default\":\"wrap\",\"kind\":null,\"name\":\"flex_wrap\"},{\"default\":\"flex-start\",\"kind\":null,\"name\":\"justify_content\"}]},{\"extends\":null,\"module\":null,\"name\":\"GridStack1\",\"overrides\":[],\"properties\":[{\"default\":\"warn\",\"kind\":null,\"name\":\"mode\"},{\"default\":null,\"kind\":null,\"name\":\"ncols\"},{\"default\":null,\"kind\":null,\"name\":\"nrows\"},{\"default\":true,\"kind\":null,\"name\":\"allow_resize\"},{\"default\":true,\"kind\":null,\"name\":\"allow_drag\"},{\"default\":[],\"kind\":null,\"name\":\"state\"}]},{\"extends\":null,\"module\":null,\"name\":\"click1\",\"overrides\":[],\"properties\":[{\"default\":\"\",\"kind\":null,\"name\":\"terminal_output\"},{\"default\":\"\",\"kind\":null,\"name\":\"debug_name\"},{\"default\":0,\"kind\":null,\"name\":\"clears\"}]},{\"extends\":null,\"module\":null,\"name\":\"NotificationAreaBase1\",\"overrides\":[],\"properties\":[{\"default\":\"bottom-right\",\"kind\":null,\"name\":\"position\"},{\"default\":0,\"kind\":null,\"name\":\"_clear\"}]},{\"extends\":null,\"module\":null,\"name\":\"NotificationArea1\",\"overrides\":[],\"properties\":[{\"default\":[],\"kind\":null,\"name\":\"notifications\"},{\"default\":\"bottom-right\",\"kind\":null,\"name\":\"position\"},{\"default\":0,\"kind\":null,\"name\":\"_clear\"},{\"default\":[{\"background\":\"#ffc107\",\"icon\":{\"className\":\"fas fa-exclamation-triangle\",\"color\":\"white\",\"tagName\":\"i\"},\"type\":\"warning\"},{\"background\":\"#007bff\",\"icon\":{\"className\":\"fas fa-info-circle\",\"color\":\"white\",\"tagName\":\"i\"},\"type\":\"info\"}],\"kind\":null,\"name\":\"types\"}]},{\"extends\":null,\"module\":null,\"name\":\"Notification\",\"overrides\":[],\"properties\":[{\"default\":null,\"kind\":null,\"name\":\"background\"},{\"default\":3000,\"kind\":null,\"name\":\"duration\"},{\"default\":null,\"kind\":null,\"name\":\"icon\"},{\"default\":\"\",\"kind\":null,\"name\":\"message\"},{\"default\":null,\"kind\":null,\"name\":\"notification_type\"},{\"default\":false,\"kind\":null,\"name\":\"_destroyed\"}]},{\"extends\":null,\"module\":null,\"name\":\"TemplateActions1\",\"overrides\":[],\"properties\":[{\"default\":0,\"kind\":null,\"name\":\"open_modal\"},{\"default\":0,\"kind\":null,\"name\":\"close_modal\"}]},{\"extends\":null,\"module\":null,\"name\":\"MaterialTemplateActions1\",\"overrides\":[],\"properties\":[{\"default\":0,\"kind\":null,\"name\":\"open_modal\"},{\"default\":0,\"kind\":null,\"name\":\"close_modal\"}]}],\"roots\":{\"references\":[{\"attributes\":{},\"id\":\"2930\",\"type\":\"BasicTicker\"},{\"attributes\":{},\"id\":\"2957\",\"type\":\"AllLabels\"},{\"attributes\":{},\"id\":\"2869\",\"type\":\"CategoricalTicker\"},{\"attributes\":{\"fill_alpha\":{\"value\":0.2},\"fill_color\":{\"value\":\"#30a2da\"},\"hatch_alpha\":{\"value\":0.2},\"hatch_color\":{\"value\":\"#30a2da\"},\"line_alpha\":{\"value\":0.2},\"top\":{\"field\":\"A_0\"},\"width\":{\"value\":0.8},\"x\":{\"field\":\"index\"}},\"id\":\"2951\",\"type\":\"VBar\"},{\"attributes\":{\"fill_color\":{\"value\":\"#30a2da\"},\"hatch_color\":{\"value\":\"#30a2da\"},\"top\":{\"field\":\"A_0\"},\"width\":{\"value\":0.8},\"x\":{\"field\":\"index\"}},\"id\":\"2949\",\"type\":\"VBar\"},{\"attributes\":{\"coordinates\":null,\"data_source\":{\"id\":\"2946\"},\"glyph\":{\"id\":\"2949\"},\"group\":null,\"hover_glyph\":null,\"muted_glyph\":{\"id\":\"2951\"},\"nonselection_glyph\":{\"id\":\"2950\"},\"selection_glyph\":{\"id\":\"2954\"},\"view\":{\"id\":\"2953\"}},\"id\":\"2952\",\"type\":\"GlyphRenderer\"},{\"attributes\":{\"source\":{\"id\":\"2946\"}},\"id\":\"2953\",\"type\":\"CDSView\"},{\"attributes\":{\"bottom\":{\"value\":0},\"fill_alpha\":{\"value\":1.0},\"fill_color\":{\"value\":\"#30a2da\"},\"hatch_alpha\":{\"value\":1.0},\"hatch_color\":{\"value\":\"#30a2da\"},\"hatch_scale\":{\"value\":12.0},\"hatch_weight\":{\"value\":1.0},\"line_alpha\":{\"value\":1.0},\"line_cap\":{\"value\":\"butt\"},\"line_color\":{\"value\":\"black\"},\"line_dash\":{\"value\":[]},\"line_dash_offset\":{\"value\":0},\"line_join\":{\"value\":\"bevel\"},\"line_width\":{\"value\":1},\"top\":{\"field\":\"A_0\"},\"width\":{\"value\":0.8},\"x\":{\"field\":\"index\"}},\"id\":\"2954\",\"type\":\"VBar\"},{\"attributes\":{\"overlay\":{\"id\":\"2938\"}},\"id\":\"2936\",\"type\":\"BoxZoomTool\"},{\"attributes\":{\"bottom\":{\"value\":0},\"fill_alpha\":{\"value\":1.0},\"fill_color\":{\"value\":\"#30a2da\"},\"hatch_alpha\":{\"value\":1.0},\"hatch_color\":{\"value\":\"#30a2da\"},\"hatch_scale\":{\"value\":12.0},\"hatch_weight\":{\"value\":1.0},\"line_alpha\":{\"value\":1.0},\"line_cap\":{\"value\":\"butt\"},\"line_color\":{\"value\":\"black\"},\"line_dash\":{\"value\":[]},\"line_dash_offset\":{\"value\":0},\"line_join\":{\"value\":\"bevel\"},\"line_width\":{\"value\":1},\"top\":{\"field\":\"A_0\"},\"width\":{\"value\":0.8},\"x\":{\"field\":\"index\"}},\"id\":\"2896\",\"type\":\"VBar\"},{\"attributes\":{},\"id\":\"2937\",\"type\":\"ResetTool\"},{\"attributes\":{},\"id\":\"2934\",\"type\":\"PanTool\"},{\"attributes\":{\"bottom_units\":\"screen\",\"coordinates\":null,\"fill_alpha\":0.5,\"fill_color\":\"lightgrey\",\"group\":null,\"left_units\":\"screen\",\"level\":\"overlay\",\"line_alpha\":1.0,\"line_color\":\"black\",\"line_dash\":[4,4],\"line_width\":2,\"right_units\":\"screen\",\"syncable\":false,\"top_units\":\"screen\"},\"id\":\"2880\",\"type\":\"BoxAnnotation\"},{\"attributes\":{\"end\":25.3,\"reset_end\":25.3,\"reset_start\":0.0,\"tags\":[[[\"0\",\"0\",null]]]},\"id\":\"2857\",\"type\":\"Range1d\"},{\"attributes\":{\"overlay\":{\"id\":\"2880\"}},\"id\":\"2878\",\"type\":\"BoxZoomTool\"},{\"attributes\":{},\"id\":\"2956\",\"type\":\"CategoricalTickFormatter\"},{\"attributes\":{\"bottom_units\":\"screen\",\"coordinates\":null,\"fill_alpha\":0.5,\"fill_color\":\"lightgrey\",\"group\":null,\"left_units\":\"screen\",\"level\":\"overlay\",\"line_alpha\":1.0,\"line_color\":\"black\",\"line_dash\":[4,4],\"line_width\":2,\"right_units\":\"screen\",\"syncable\":false,\"top_units\":\"screen\"},\"id\":\"2938\",\"type\":\"BoxAnnotation\"},{\"attributes\":{\"below\":[{\"id\":\"2926\"}],\"center\":[{\"id\":\"2928\"},{\"id\":\"2932\"}],\"height\":300,\"left\":[{\"id\":\"2929\"}],\"margin\":[5,5,5,5],\"min_border_bottom\":10,\"min_border_left\":10,\"min_border_right\":10,\"min_border_top\":10,\"renderers\":[{\"id\":\"2952\"}],\"sizing_mode\":\"fixed\",\"title\":{\"id\":\"2918\"},\"toolbar\":{\"id\":\"2939\"},\"width\":700,\"x_range\":{\"id\":\"2856\"},\"x_scale\":{\"id\":\"2922\"},\"y_range\":{\"id\":\"2857\"},\"y_scale\":{\"id\":\"2924\"}},\"id\":\"2917\",\"subtype\":\"Figure\",\"type\":\"Plot\"},{\"attributes\":{\"fill_alpha\":{\"value\":0.2},\"fill_color\":{\"value\":\"#30a2da\"},\"hatch_alpha\":{\"value\":0.2},\"hatch_color\":{\"value\":\"#30a2da\"},\"line_alpha\":{\"value\":0.2},\"top\":{\"field\":\"A_0\"},\"width\":{\"value\":0.8},\"x\":{\"field\":\"index\"}},\"id\":\"2893\",\"type\":\"VBar\"},{\"attributes\":{\"axis\":{\"id\":\"2926\"},\"coordinates\":null,\"grid_line_color\":null,\"group\":null,\"ticker\":null},\"id\":\"2928\",\"type\":\"Grid\"},{\"attributes\":{\"data\":{\"A_0\":[5,4,0,0,0,0,0,0],\"index\":[\"No Missing\",\"0-5%\",\"5-10%\",\"10-20%\",\"20-30%\",\"30-40%\",\"40-50%\",\"50-100%\"]},\"selected\":{\"id\":\"2947\"},\"selection_policy\":{\"id\":\"2968\"}},\"id\":\"2946\",\"type\":\"ColumnDataSource\"},{\"attributes\":{\"axis_label\":\"# of missing observations\",\"coordinates\":null,\"formatter\":{\"id\":\"2956\"},\"group\":null,\"major_label_policy\":{\"id\":\"2957\"},\"ticker\":{\"id\":\"2927\"}},\"id\":\"2926\",\"type\":\"CategoricalAxis\"},{\"attributes\":{\"fill_alpha\":{\"value\":0.1},\"fill_color\":{\"value\":\"#30a2da\"},\"hatch_alpha\":{\"value\":0.1},\"hatch_color\":{\"value\":\"#30a2da\"},\"line_alpha\":{\"value\":0.1},\"top\":{\"field\":\"A_0\"},\"width\":{\"value\":0.8},\"x\":{\"field\":\"index\"}},\"id\":\"2892\",\"type\":\"VBar\"},{\"attributes\":{\"axis\":{\"id\":\"2868\"},\"coordinates\":null,\"grid_line_color\":null,\"group\":null,\"ticker\":null},\"id\":\"2870\",\"type\":\"Grid\"},{\"attributes\":{},\"id\":\"2960\",\"type\":\"AllLabels\"},{\"attributes\":{\"axis\":{\"id\":\"2929\"},\"coordinates\":null,\"dimension\":1,\"grid_line_color\":null,\"group\":null,\"ticker\":null},\"id\":\"2932\",\"type\":\"Grid\"},{\"attributes\":{\"child\":{\"id\":\"2859\"},\"name\":\"orders\",\"title\":\"orders\"},\"id\":\"2913\",\"type\":\"Panel\"},{\"attributes\":{},\"id\":\"2877\",\"type\":\"WheelZoomTool\"},{\"attributes\":{},\"id\":\"2924\",\"type\":\"LinearScale\"},{\"attributes\":{},\"id\":\"2876\",\"type\":\"PanTool\"},{\"attributes\":{},\"id\":\"2872\",\"type\":\"BasicTicker\"},{\"attributes\":{},\"id\":\"2898\",\"type\":\"CategoricalTickFormatter\"},{\"attributes\":{\"callback\":null,\"renderers\":[{\"id\":\"2894\"}],\"tags\":[\"hv_created\"],\"tooltips\":[[\"index\",\"@{index}\"],[\"0\",\"@{A_0}\"]]},\"id\":\"2858\",\"type\":\"HoverTool\"},{\"attributes\":{\"axis_label\":\"# of variables\",\"coordinates\":null,\"formatter\":{\"id\":\"2959\"},\"group\":null,\"major_label_policy\":{\"id\":\"2960\"},\"ticker\":{\"id\":\"2930\"}},\"id\":\"2929\",\"type\":\"LinearAxis\"},{\"attributes\":{},\"id\":\"2959\",\"type\":\"BasicTickFormatter\"},{\"attributes\":{},\"id\":\"2879\",\"type\":\"ResetTool\"},{\"attributes\":{},\"id\":\"2889\",\"type\":\"Selection\"},{\"attributes\":{\"tools\":[{\"id\":\"2858\"},{\"id\":\"2875\"},{\"id\":\"2876\"},{\"id\":\"2877\"},{\"id\":\"2878\"},{\"id\":\"2879\"}]},\"id\":\"2881\",\"type\":\"Toolbar\"},{\"attributes\":{\"coordinates\":null,\"group\":null,\"text\":\"Missing Variables - Data Shape:(174813, 25)\",\"text_color\":\"black\",\"text_font_size\":\"12pt\"},\"id\":\"2860\",\"type\":\"Title\"},{\"attributes\":{\"axis_label\":\"# of missing observations\",\"coordinates\":null,\"formatter\":{\"id\":\"2898\"},\"group\":null,\"major_label_policy\":{\"id\":\"2899\"},\"ticker\":{\"id\":\"2869\"}},\"id\":\"2868\",\"type\":\"CategoricalAxis\"},{\"attributes\":{\"fill_color\":{\"value\":\"#30a2da\"},\"hatch_color\":{\"value\":\"#30a2da\"},\"top\":{\"field\":\"A_0\"},\"width\":{\"value\":0.8},\"x\":{\"field\":\"index\"}},\"id\":\"2891\",\"type\":\"VBar\"},{\"attributes\":{},\"id\":\"2933\",\"type\":\"SaveTool\"},{\"attributes\":{},\"id\":\"2899\",\"type\":\"AllLabels\"},{\"attributes\":{\"coordinates\":null,\"data_source\":{\"id\":\"2888\"},\"glyph\":{\"id\":\"2891\"},\"group\":null,\"hover_glyph\":null,\"muted_glyph\":{\"id\":\"2893\"},\"nonselection_glyph\":{\"id\":\"2892\"},\"selection_glyph\":{\"id\":\"2896\"},\"view\":{\"id\":\"2895\"}},\"id\":\"2894\",\"type\":\"GlyphRenderer\"},{\"attributes\":{},\"id\":\"2922\",\"type\":\"CategoricalScale\"},{\"attributes\":{},\"id\":\"2927\",\"type\":\"CategoricalTicker\"},{\"attributes\":{\"fill_alpha\":{\"value\":0.1},\"fill_color\":{\"value\":\"#30a2da\"},\"hatch_alpha\":{\"value\":0.1},\"hatch_color\":{\"value\":\"#30a2da\"},\"line_alpha\":{\"value\":0.1},\"top\":{\"field\":\"A_0\"},\"width\":{\"value\":0.8},\"x\":{\"field\":\"index\"}},\"id\":\"2950\",\"type\":\"VBar\"},{\"attributes\":{},\"id\":\"2947\",\"type\":\"Selection\"},{\"attributes\":{\"coordinates\":null,\"group\":null,\"text\":\"Missing Variables - Data Shape:(13544, 9)\",\"text_color\":\"black\",\"text_font_size\":\"12pt\"},\"id\":\"2918\",\"type\":\"Title\"},{\"attributes\":{},\"id\":\"2866\",\"type\":\"LinearScale\"},{\"attributes\":{\"callback\":null,\"renderers\":[{\"id\":\"2952\"}],\"tags\":[\"hv_created\"],\"tooltips\":[[\"index\",\"@{index}\"],[\"0\",\"@{A_0}\"]]},\"id\":\"2916\",\"type\":\"HoverTool\"},{\"attributes\":{\"axis\":{\"id\":\"2871\"},\"coordinates\":null,\"dimension\":1,\"grid_line_color\":null,\"group\":null,\"ticker\":null},\"id\":\"2874\",\"type\":\"Grid\"},{\"attributes\":{},\"id\":\"2901\",\"type\":\"BasicTickFormatter\"},{\"attributes\":{},\"id\":\"2935\",\"type\":\"WheelZoomTool\"},{\"attributes\":{\"factors\":[\"No Missing\",\"0-5%\",\"5-10%\",\"10-20%\",\"20-30%\",\"30-40%\",\"40-50%\",\"50-100%\"],\"tags\":[[[\"index\",\"index\",null]]]},\"id\":\"2856\",\"type\":\"FactorRange\"},{\"attributes\":{\"data\":{\"A_0\":[23,2,0,0,0,0,0,0],\"index\":[\"No Missing\",\"0-5%\",\"5-10%\",\"10-20%\",\"20-30%\",\"30-40%\",\"40-50%\",\"50-100%\"]},\"selected\":{\"id\":\"2889\"},\"selection_policy\":{\"id\":\"2910\"}},\"id\":\"2888\",\"type\":\"ColumnDataSource\"},{\"attributes\":{},\"id\":\"2910\",\"type\":\"UnionRenderers\"},{\"attributes\":{\"client_comm_id\":\"0b3b03dfcfc446b8946e7634168588a7\",\"comm_id\":\"2114a581cd8b4ae49e08ed74b30ed36e\",\"plot_id\":\"2855\"},\"id\":\"3032\",\"type\":\"panel.models.comm_manager.CommManager\"},{\"attributes\":{\"tools\":[{\"id\":\"2916\"},{\"id\":\"2933\"},{\"id\":\"2934\"},{\"id\":\"2935\"},{\"id\":\"2936\"},{\"id\":\"2937\"}]},\"id\":\"2939\",\"type\":\"Toolbar\"},{\"attributes\":{},\"id\":\"2902\",\"type\":\"AllLabels\"},{\"attributes\":{},\"id\":\"2968\",\"type\":\"UnionRenderers\"},{\"attributes\":{\"child\":{\"id\":\"2917\"},\"name\":\"product\",\"title\":\"product\"},\"id\":\"2971\",\"type\":\"Panel\"},{\"attributes\":{\"below\":[{\"id\":\"2868\"}],\"center\":[{\"id\":\"2870\"},{\"id\":\"2874\"}],\"height\":300,\"left\":[{\"id\":\"2871\"}],\"margin\":[5,5,5,5],\"min_border_bottom\":10,\"min_border_left\":10,\"min_border_right\":10,\"min_border_top\":10,\"renderers\":[{\"id\":\"2894\"}],\"sizing_mode\":\"fixed\",\"title\":{\"id\":\"2860\"},\"toolbar\":{\"id\":\"2881\"},\"width\":700,\"x_range\":{\"id\":\"2856\"},\"x_scale\":{\"id\":\"2864\"},\"y_range\":{\"id\":\"2857\"},\"y_scale\":{\"id\":\"2866\"}},\"id\":\"2859\",\"subtype\":\"Figure\",\"type\":\"Plot\"},{\"attributes\":{},\"id\":\"2875\",\"type\":\"SaveTool\"},{\"attributes\":{\"source\":{\"id\":\"2888\"}},\"id\":\"2895\",\"type\":\"CDSView\"},{\"attributes\":{\"margin\":[0,0,0,0],\"tabs\":[{\"id\":\"2913\"},{\"id\":\"2971\"}]},\"id\":\"2855\",\"type\":\"panel.models.tabs.Tabs\"},{\"attributes\":{\"axis_label\":\"# of variables\",\"coordinates\":null,\"formatter\":{\"id\":\"2901\"},\"group\":null,\"major_label_policy\":{\"id\":\"2902\"},\"ticker\":{\"id\":\"2872\"}},\"id\":\"2871\",\"type\":\"LinearAxis\"},{\"attributes\":{},\"id\":\"2864\",\"type\":\"CategoricalScale\"}],\"root_ids\":[\"2855\",\"3032\"]},\"title\":\"Bokeh Application\",\"version\":\"2.4.3\"}};\n",
       "    var render_items = [{\"docid\":\"fb85ffcc-1c1a-4437-98e9-3f56f9326fbf\",\"root_ids\":[\"2855\"],\"roots\":{\"2855\":\"27778ce9-6f87-45b5-8a8f-d46362ba4106\"}}];\n",
       "    root.Bokeh.embed.embed_items_notebook(docs_json, render_items);\n",
       "  }\n",
       "  if (root.Bokeh !== undefined && root.Bokeh.Panel !== undefined) {\n",
       "    embed_document(root);\n",
       "  } else {\n",
       "    var attempts = 0;\n",
       "    var timer = setInterval(function(root) {\n",
       "      if (root.Bokeh !== undefined && root.Bokeh.Panel !== undefined) {\n",
       "        clearInterval(timer);\n",
       "        embed_document(root);\n",
       "      } else if (document.readyState == \"complete\") {\n",
       "        attempts++;\n",
       "        if (attempts > 200) {\n",
       "          clearInterval(timer);\n",
       "          console.log(\"Bokeh: ERROR: Unable to run BokehJS code because BokehJS library is missing\");\n",
       "        }\n",
       "      }\n",
       "    }, 25, root)\n",
       "  }\n",
       "})(window);</script>"
      ],
      "text/plain": [
       "Tabs\n",
       "    [0] HoloViews(Bars, name='orders')\n",
       "    [1] HoloViews(Bars, name='product')"
      ]
     },
     "execution_count": 38,
     "metadata": {
      "application/vnd.holoviews_exec.v0+json": {
       "id": "2855"
      }
     },
     "output_type": "execute_result"
    }
   ],
   "source": [
    "sum1, plot1 = eda.get_missing_values_summary(orders_df, return_plot=True)\n",
    "sum2, plot2 = eda.get_missing_values_summary(prod_df, return_plot=True)\n",
    "\n",
    "display_as_tabs([('orders', plot1), ('product', plot2)])"
   ]
  },
  {
   "attachments": {},
   "cell_type": "markdown",
   "metadata": {},
   "source": [
    "**Dev notes:**\n",
    "\n",
    "<details>\n",
    "    \n",
    "    * By default, the following are considered missing/NA values : `[np.Nan, pd.NaT, 'NA', None]`\n",
    "    * additional values can be passed to tigerml (add_additional_na_values)\n",
    "    * these are applied to all columns.\n",
    "    \n",
    "    * some of the above information can be learnt from the data discovery step (see discussion below)\n",
    "    \n",
    "</details>"
   ]
  },
  {
   "cell_type": "code",
   "execution_count": 39,
   "metadata": {},
   "outputs": [
    {
     "data": {},
     "metadata": {},
     "output_type": "display_data"
    },
    {
     "data": {
      "application/vnd.holoviews_exec.v0+json": "",
      "text/html": [
       "<div id='3133'>\n",
       "  <div class=\"bk-root\" id=\"84e012fd-35ab-4e1b-98cb-c48ee89f8acc\" data-root-id=\"3133\"></div>\n",
       "</div>\n",
       "<script type=\"application/javascript\">(function(root) {\n",
       "  function embed_document(root) {\n",
       "    var docs_json = {\"df58c4f6-0f9b-47ea-9984-0911043c093a\":{\"defs\":[{\"extends\":null,\"module\":null,\"name\":\"ReactiveHTML1\",\"overrides\":[],\"properties\":[]},{\"extends\":null,\"module\":null,\"name\":\"FlexBox1\",\"overrides\":[],\"properties\":[{\"default\":\"flex-start\",\"kind\":null,\"name\":\"align_content\"},{\"default\":\"flex-start\",\"kind\":null,\"name\":\"align_items\"},{\"default\":\"row\",\"kind\":null,\"name\":\"flex_direction\"},{\"default\":\"wrap\",\"kind\":null,\"name\":\"flex_wrap\"},{\"default\":\"flex-start\",\"kind\":null,\"name\":\"justify_content\"}]},{\"extends\":null,\"module\":null,\"name\":\"GridStack1\",\"overrides\":[],\"properties\":[{\"default\":\"warn\",\"kind\":null,\"name\":\"mode\"},{\"default\":null,\"kind\":null,\"name\":\"ncols\"},{\"default\":null,\"kind\":null,\"name\":\"nrows\"},{\"default\":true,\"kind\":null,\"name\":\"allow_resize\"},{\"default\":true,\"kind\":null,\"name\":\"allow_drag\"},{\"default\":[],\"kind\":null,\"name\":\"state\"}]},{\"extends\":null,\"module\":null,\"name\":\"click1\",\"overrides\":[],\"properties\":[{\"default\":\"\",\"kind\":null,\"name\":\"terminal_output\"},{\"default\":\"\",\"kind\":null,\"name\":\"debug_name\"},{\"default\":0,\"kind\":null,\"name\":\"clears\"}]},{\"extends\":null,\"module\":null,\"name\":\"NotificationAreaBase1\",\"overrides\":[],\"properties\":[{\"default\":\"bottom-right\",\"kind\":null,\"name\":\"position\"},{\"default\":0,\"kind\":null,\"name\":\"_clear\"}]},{\"extends\":null,\"module\":null,\"name\":\"NotificationArea1\",\"overrides\":[],\"properties\":[{\"default\":[],\"kind\":null,\"name\":\"notifications\"},{\"default\":\"bottom-right\",\"kind\":null,\"name\":\"position\"},{\"default\":0,\"kind\":null,\"name\":\"_clear\"},{\"default\":[{\"background\":\"#ffc107\",\"icon\":{\"className\":\"fas fa-exclamation-triangle\",\"color\":\"white\",\"tagName\":\"i\"},\"type\":\"warning\"},{\"background\":\"#007bff\",\"icon\":{\"className\":\"fas fa-info-circle\",\"color\":\"white\",\"tagName\":\"i\"},\"type\":\"info\"}],\"kind\":null,\"name\":\"types\"}]},{\"extends\":null,\"module\":null,\"name\":\"Notification\",\"overrides\":[],\"properties\":[{\"default\":null,\"kind\":null,\"name\":\"background\"},{\"default\":3000,\"kind\":null,\"name\":\"duration\"},{\"default\":null,\"kind\":null,\"name\":\"icon\"},{\"default\":\"\",\"kind\":null,\"name\":\"message\"},{\"default\":null,\"kind\":null,\"name\":\"notification_type\"},{\"default\":false,\"kind\":null,\"name\":\"_destroyed\"}]},{\"extends\":null,\"module\":null,\"name\":\"TemplateActions1\",\"overrides\":[],\"properties\":[{\"default\":0,\"kind\":null,\"name\":\"open_modal\"},{\"default\":0,\"kind\":null,\"name\":\"close_modal\"}]},{\"extends\":null,\"module\":null,\"name\":\"MaterialTemplateActions1\",\"overrides\":[],\"properties\":[{\"default\":0,\"kind\":null,\"name\":\"open_modal\"},{\"default\":0,\"kind\":null,\"name\":\"close_modal\"}]}],\"roots\":{\"references\":[{\"attributes\":{\"client_comm_id\":\"465231f7752449c798a5e4245c4447f7\",\"comm_id\":\"45671de9618146e7af189e24e547c327\",\"plot_id\":\"3133\"},\"id\":\"3138\",\"type\":\"panel.models.comm_manager.CommManager\"},{\"attributes\":{\"margin\":[0,0,0,0],\"tabs\":[{\"id\":\"3135\"},{\"id\":\"3137\"}]},\"id\":\"3133\",\"type\":\"panel.models.tabs.Tabs\"},{\"attributes\":{\"css_classes\":[\"markdown\"],\"margin\":[5,5,5,5],\"name\":\"orders\",\"text\":\"&lt;p&gt;No duplicate variables&lt;/p&gt;\"},\"id\":\"3134\",\"type\":\"panel.models.markup.HTML\"},{\"attributes\":{\"child\":{\"id\":\"3136\"},\"name\":\"product\",\"title\":\"product\"},\"id\":\"3137\",\"type\":\"Panel\"},{\"attributes\":{\"css_classes\":[\"markdown\"],\"margin\":[5,5,5,5],\"name\":\"product\",\"text\":\"&lt;p&gt;No duplicate variables&lt;/p&gt;\"},\"id\":\"3136\",\"type\":\"panel.models.markup.HTML\"},{\"attributes\":{\"child\":{\"id\":\"3134\"},\"name\":\"orders\",\"title\":\"orders\"},\"id\":\"3135\",\"type\":\"Panel\"}],\"root_ids\":[\"3133\",\"3138\"]},\"title\":\"Bokeh Application\",\"version\":\"2.4.3\"}};\n",
       "    var render_items = [{\"docid\":\"df58c4f6-0f9b-47ea-9984-0911043c093a\",\"root_ids\":[\"3133\"],\"roots\":{\"3133\":\"84e012fd-35ab-4e1b-98cb-c48ee89f8acc\"}}];\n",
       "    root.Bokeh.embed.embed_items_notebook(docs_json, render_items);\n",
       "  }\n",
       "  if (root.Bokeh !== undefined && root.Bokeh.Panel !== undefined) {\n",
       "    embed_document(root);\n",
       "  } else {\n",
       "    var attempts = 0;\n",
       "    var timer = setInterval(function(root) {\n",
       "      if (root.Bokeh !== undefined && root.Bokeh.Panel !== undefined) {\n",
       "        clearInterval(timer);\n",
       "        embed_document(root);\n",
       "      } else if (document.readyState == \"complete\") {\n",
       "        attempts++;\n",
       "        if (attempts > 200) {\n",
       "          clearInterval(timer);\n",
       "          console.log(\"Bokeh: ERROR: Unable to run BokehJS code because BokehJS library is missing\");\n",
       "        }\n",
       "      }\n",
       "    }, 25, root)\n",
       "  }\n",
       "})(window);</script>"
      ],
      "text/plain": [
       "Tabs\n",
       "    [0] Markdown(str, name='orders')\n",
       "    [1] Markdown(str, name='product')"
      ]
     },
     "execution_count": 39,
     "metadata": {
      "application/vnd.holoviews_exec.v0+json": {
       "id": "3133"
      }
     },
     "output_type": "execute_result"
    }
   ],
   "source": [
    "sum1 = eda.get_duplicate_columns(orders_df)\n",
    "sum2 = eda.get_duplicate_columns(prod_df)\n",
    "\n",
    "display_as_tabs([('orders', sum1), ('product', sum2)])"
   ]
  },
  {
   "cell_type": "code",
   "execution_count": 40,
   "metadata": {},
   "outputs": [
    {
     "data": {},
     "metadata": {},
     "output_type": "display_data"
    },
    {
     "data": {
      "application/vnd.holoviews_exec.v0+json": "",
      "text/html": [
       "<div id='3139'>\n",
       "  <div class=\"bk-root\" id=\"5661a4b7-fabd-4db0-bfcd-0d86d1967116\" data-root-id=\"3139\"></div>\n",
       "</div>\n",
       "<script type=\"application/javascript\">(function(root) {\n",
       "  function embed_document(root) {\n",
       "    var docs_json = {\"d2f8b640-6182-4826-8e99-22df458c9f2d\":{\"defs\":[{\"extends\":null,\"module\":null,\"name\":\"ReactiveHTML1\",\"overrides\":[],\"properties\":[]},{\"extends\":null,\"module\":null,\"name\":\"FlexBox1\",\"overrides\":[],\"properties\":[{\"default\":\"flex-start\",\"kind\":null,\"name\":\"align_content\"},{\"default\":\"flex-start\",\"kind\":null,\"name\":\"align_items\"},{\"default\":\"row\",\"kind\":null,\"name\":\"flex_direction\"},{\"default\":\"wrap\",\"kind\":null,\"name\":\"flex_wrap\"},{\"default\":\"flex-start\",\"kind\":null,\"name\":\"justify_content\"}]},{\"extends\":null,\"module\":null,\"name\":\"GridStack1\",\"overrides\":[],\"properties\":[{\"default\":\"warn\",\"kind\":null,\"name\":\"mode\"},{\"default\":null,\"kind\":null,\"name\":\"ncols\"},{\"default\":null,\"kind\":null,\"name\":\"nrows\"},{\"default\":true,\"kind\":null,\"name\":\"allow_resize\"},{\"default\":true,\"kind\":null,\"name\":\"allow_drag\"},{\"default\":[],\"kind\":null,\"name\":\"state\"}]},{\"extends\":null,\"module\":null,\"name\":\"click1\",\"overrides\":[],\"properties\":[{\"default\":\"\",\"kind\":null,\"name\":\"terminal_output\"},{\"default\":\"\",\"kind\":null,\"name\":\"debug_name\"},{\"default\":0,\"kind\":null,\"name\":\"clears\"}]},{\"extends\":null,\"module\":null,\"name\":\"NotificationAreaBase1\",\"overrides\":[],\"properties\":[{\"default\":\"bottom-right\",\"kind\":null,\"name\":\"position\"},{\"default\":0,\"kind\":null,\"name\":\"_clear\"}]},{\"extends\":null,\"module\":null,\"name\":\"NotificationArea1\",\"overrides\":[],\"properties\":[{\"default\":[],\"kind\":null,\"name\":\"notifications\"},{\"default\":\"bottom-right\",\"kind\":null,\"name\":\"position\"},{\"default\":0,\"kind\":null,\"name\":\"_clear\"},{\"default\":[{\"background\":\"#ffc107\",\"icon\":{\"className\":\"fas fa-exclamation-triangle\",\"color\":\"white\",\"tagName\":\"i\"},\"type\":\"warning\"},{\"background\":\"#007bff\",\"icon\":{\"className\":\"fas fa-info-circle\",\"color\":\"white\",\"tagName\":\"i\"},\"type\":\"info\"}],\"kind\":null,\"name\":\"types\"}]},{\"extends\":null,\"module\":null,\"name\":\"Notification\",\"overrides\":[],\"properties\":[{\"default\":null,\"kind\":null,\"name\":\"background\"},{\"default\":3000,\"kind\":null,\"name\":\"duration\"},{\"default\":null,\"kind\":null,\"name\":\"icon\"},{\"default\":\"\",\"kind\":null,\"name\":\"message\"},{\"default\":null,\"kind\":null,\"name\":\"notification_type\"},{\"default\":false,\"kind\":null,\"name\":\"_destroyed\"}]},{\"extends\":null,\"module\":null,\"name\":\"TemplateActions1\",\"overrides\":[],\"properties\":[{\"default\":0,\"kind\":null,\"name\":\"open_modal\"},{\"default\":0,\"kind\":null,\"name\":\"close_modal\"}]},{\"extends\":null,\"module\":null,\"name\":\"MaterialTemplateActions1\",\"overrides\":[],\"properties\":[{\"default\":0,\"kind\":null,\"name\":\"open_modal\"},{\"default\":0,\"kind\":null,\"name\":\"close_modal\"}]}],\"roots\":{\"references\":[{\"attributes\":{\"text_align\":\"right\"},\"id\":\"3153\",\"type\":\"NumberFormatter\"},{\"attributes\":{\"source\":{\"id\":\"3140\"}},\"id\":\"3185\",\"type\":\"CDSView\"},{\"attributes\":{},\"id\":\"3144\",\"type\":\"CellEditor\"},{\"attributes\":{},\"id\":\"3154\",\"type\":\"IntEditor\"},{\"attributes\":{\"editor\":{\"id\":\"3179\"},\"field\":\"+inf\",\"formatter\":{\"id\":\"3178\"},\"title\":\"+inf\",\"width\":0},\"id\":\"3180\",\"type\":\"TableColumn\"},{\"attributes\":{\"child\":{\"id\":\"3183\"},\"name\":\"orders\",\"title\":\"orders\"},\"id\":\"3187\",\"type\":\"Panel\"},{\"attributes\":{},\"id\":\"3142\",\"type\":\"StringFormatter\"},{\"attributes\":{\"editor\":{\"id\":\"3164\"},\"field\":\"< (1stQ - 1.5 * IQR)\",\"formatter\":{\"id\":\"3163\"},\"title\":\"< (1stQ - 1.5 * IQR)\",\"width\":0},\"id\":\"3165\",\"type\":\"TableColumn\"},{\"attributes\":{\"css_classes\":[\"markdown\"],\"margin\":[5,5,5,5],\"name\":\"product\",\"text\":\"&lt;p&gt;No Outlier Values&lt;/p&gt;\"},\"id\":\"3188\",\"type\":\"panel.models.markup.HTML\"},{\"attributes\":{\"client_comm_id\":\"4532db94786d4fc6a1ed715f598ae428\",\"comm_id\":\"63d00e4d9fa34ba9aba0217083274b4b\",\"plot_id\":\"3139\"},\"id\":\"3196\",\"type\":\"panel.models.comm_manager.CommManager\"},{\"attributes\":{},\"id\":\"3149\",\"type\":\"IntEditor\"},{\"attributes\":{\"text_align\":\"right\"},\"id\":\"3178\",\"type\":\"NumberFormatter\"},{\"attributes\":{\"editor\":{\"id\":\"3174\"},\"field\":\"-inf\",\"formatter\":{\"id\":\"3173\"},\"title\":\"-inf\",\"width\":0},\"id\":\"3175\",\"type\":\"TableColumn\"},{\"attributes\":{\"text_align\":\"right\"},\"id\":\"3158\",\"type\":\"NumberFormatter\"},{\"attributes\":{\"columns\":[{\"id\":\"3145\"},{\"id\":\"3150\"},{\"id\":\"3155\"},{\"id\":\"3160\"},{\"id\":\"3165\"},{\"id\":\"3170\"},{\"id\":\"3175\"},{\"id\":\"3180\"}],\"editable\":true,\"height\":300,\"index_position\":null,\"margin\":[5,10,5,10],\"name\":\"orders\",\"row_height\":40,\"sizing_mode\":\"fixed\",\"source\":{\"id\":\"3140\"},\"view\":{\"id\":\"3185\"},\"width\":800},\"id\":\"3183\",\"type\":\"DataTable\"},{\"attributes\":{},\"id\":\"3174\",\"type\":\"IntEditor\"},{\"attributes\":{\"text_align\":\"right\"},\"id\":\"3148\",\"type\":\"NumberFormatter\"},{\"attributes\":{\"editor\":{\"id\":\"3159\"},\"field\":\"> (mean+3*std)\",\"formatter\":{\"id\":\"3158\"},\"title\":\"> (mean+3*std)\",\"width\":0},\"id\":\"3160\",\"type\":\"TableColumn\"},{\"attributes\":{},\"id\":\"3179\",\"type\":\"IntEditor\"},{\"attributes\":{\"editor\":{\"id\":\"3149\"},\"field\":\"N\",\"formatter\":{\"id\":\"3148\"},\"title\":\"N\",\"width\":0},\"id\":\"3150\",\"type\":\"TableColumn\"},{\"attributes\":{\"text_align\":\"right\"},\"id\":\"3168\",\"type\":\"NumberFormatter\"},{\"attributes\":{},\"id\":\"3169\",\"type\":\"IntEditor\"},{\"attributes\":{\"text_align\":\"right\"},\"id\":\"3173\",\"type\":\"NumberFormatter\"},{\"attributes\":{\"editor\":{\"id\":\"3144\"},\"field\":\"Feature\",\"formatter\":{\"id\":\"3142\"},\"title\":\"Feature\",\"width\":0},\"id\":\"3145\",\"type\":\"TableColumn\"},{\"attributes\":{\"indices\":[]},\"id\":\"3141\",\"type\":\"Selection\"},{\"attributes\":{\"editor\":{\"id\":\"3154\"},\"field\":\"< (mean-3*std)\",\"formatter\":{\"id\":\"3153\"},\"title\":\"< (mean-3*std)\",\"width\":0},\"id\":\"3155\",\"type\":\"TableColumn\"},{\"attributes\":{\"margin\":[0,0,0,0],\"tabs\":[{\"id\":\"3187\"},{\"id\":\"3189\"}]},\"id\":\"3139\",\"type\":\"panel.models.tabs.Tabs\"},{\"attributes\":{},\"id\":\"3159\",\"type\":\"IntEditor\"},{\"attributes\":{},\"id\":\"3190\",\"type\":\"UnionRenderers\"},{\"attributes\":{\"text_align\":\"right\"},\"id\":\"3163\",\"type\":\"NumberFormatter\"},{\"attributes\":{\"data\":{\"+inf\":[0,0,0,0,0,0,0,0,0],\"-inf\":[0,0,0,0,0,0,0,0,0],\"< (1stQ - 1.5 * IQR)\":[174,10552,0,226,0,0,546,397,8791],\"< (mean-3*std)\":[340,8988,0,1,0,0,1,1,270],\"> (3rdQ + 1.5 * IQR)\":[0,11010,16279,19070,10675,13028,21995,22465,20290],\"> (mean+3*std)\":[0,0,5150,1067,3283,3572,646,582,231],\"Feature\":[\"Orderno\",\"BusinessUnit\",\"Line\",\"Quantity\",\"UnitCost\",\"UnitPrice\",\"SellingPrice\",\"SellingCost\",\"GP\"],\"N\":[174813,174813,174813,174813,174813,174813,174813,174813,174813]},\"selected\":{\"id\":\"3141\"},\"selection_policy\":{\"id\":\"3190\"}},\"id\":\"3140\",\"type\":\"ColumnDataSource\"},{\"attributes\":{},\"id\":\"3164\",\"type\":\"IntEditor\"},{\"attributes\":{\"editor\":{\"id\":\"3169\"},\"field\":\"> (3rdQ + 1.5 * IQR)\",\"formatter\":{\"id\":\"3168\"},\"title\":\"> (3rdQ + 1.5 * IQR)\",\"width\":0},\"id\":\"3170\",\"type\":\"TableColumn\"},{\"attributes\":{\"child\":{\"id\":\"3188\"},\"name\":\"product\",\"title\":\"product\"},\"id\":\"3189\",\"type\":\"Panel\"}],\"root_ids\":[\"3139\",\"3196\"]},\"title\":\"Bokeh Application\",\"version\":\"2.4.3\"}};\n",
       "    var render_items = [{\"docid\":\"d2f8b640-6182-4826-8e99-22df458c9f2d\",\"root_ids\":[\"3139\"],\"roots\":{\"3139\":\"5661a4b7-fabd-4db0-bfcd-0d86d1967116\"}}];\n",
       "    root.Bokeh.embed.embed_items_notebook(docs_json, render_items);\n",
       "  }\n",
       "  if (root.Bokeh !== undefined && root.Bokeh.Panel !== undefined) {\n",
       "    embed_document(root);\n",
       "  } else {\n",
       "    var attempts = 0;\n",
       "    var timer = setInterval(function(root) {\n",
       "      if (root.Bokeh !== undefined && root.Bokeh.Panel !== undefined) {\n",
       "        clearInterval(timer);\n",
       "        embed_document(root);\n",
       "      } else if (document.readyState == \"complete\") {\n",
       "        attempts++;\n",
       "        if (attempts > 200) {\n",
       "          clearInterval(timer);\n",
       "          console.log(\"Bokeh: ERROR: Unable to run BokehJS code because BokehJS library is missing\");\n",
       "        }\n",
       "      }\n",
       "    }, 25, root)\n",
       "  }\n",
       "})(window);</script>"
      ],
      "text/plain": [
       "Tabs\n",
       "    [0] DataFrame(height=300, name='orders', sizing_mode='fixed', value=              ..., width=800)\n",
       "    [1] Markdown(str, name='product')"
      ]
     },
     "execution_count": 40,
     "metadata": {
      "application/vnd.holoviews_exec.v0+json": {
       "id": "3139"
      }
     },
     "output_type": "execute_result"
    }
   ],
   "source": [
    "sum1 = eda.get_outliers(orders_df)\n",
    "sum2 = eda.get_outliers(prod_df)\n",
    "\n",
    "display_as_tabs([('orders', sum1), ('product', sum2)])"
   ]
  },
  {
   "attachments": {},
   "cell_type": "markdown",
   "metadata": {},
   "source": [
    "## Health Analysis report\n",
    "\n",
    "Generate a report that has all the above data in a single html. This could be useful to submit to a client"
   ]
  },
  {
   "cell_type": "code",
   "execution_count": 41,
   "metadata": {},
   "outputs": [],
   "source": [
    "from ta_lib.reports.api import summary_report\n",
    "\n",
    "summary_report(orders_df, 'reports/orders.html')\n",
    "summary_report(prod_df, 'reports/prod.html')"
   ]
  },
  {
   "attachments": {},
   "cell_type": "markdown",
   "metadata": {},
   "source": [
    "prod: https://drive.google.com/file/d/1TM-T5HzAYpT8_1ugM5L6Bnfxp8r3uMem/view?usp=sharing\n",
    "\n",
    "orders: https://drive.google.com/file/d/1uvehi90v1HFtScZrtWg3pW2zpi-DFQ1Y/view?usp=sharing\n",
    "    "
   ]
  }
 ],
 "metadata": {
  "kernelspec": {
   "display_name": "ta-lib-dev",
   "language": "python",
   "name": "python3"
  },
  "language_info": {
   "codemirror_mode": {
    "name": "ipython",
    "version": 3
   },
   "file_extension": ".py",
   "mimetype": "text/x-python",
   "name": "python",
   "nbconvert_exporter": "python",
   "pygments_lexer": "ipython3",
   "version": "3.10.17"
  }
 },
 "nbformat": 4,
 "nbformat_minor": 4
}
